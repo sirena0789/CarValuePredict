{
 "cells": [
  {
   "cell_type": "markdown",
   "id": "2eb5bd86",
   "metadata": {},
   "source": [
    "### Обратная связь по проекту \n",
    "Шинкаренко Яна   \n",
    "Telegram: [тык](https://t.me/sirena0789)"
   ]
  },
  {
   "cell_type": "markdown",
   "id": "d9159bbf",
   "metadata": {},
   "source": [
    "# Импорт библиотек"
   ]
  },
  {
   "cell_type": "code",
   "execution_count": null,
   "id": "VD38gbKn6bIz",
   "metadata": {
    "colab": {
     "base_uri": "https://localhost:8080/"
    },
    "id": "VD38gbKn6bIz",
    "outputId": "1b47ea39-d989-4dc9-e4c1-5f273dc512b9",
    "scrolled": true
   },
   "outputs": [],
   "source": [
    "%pip install vininfo\n",
    "%pip install catboost"
   ]
  },
  {
   "cell_type": "code",
   "execution_count": null,
   "id": "wm43x_KfLWA7",
   "metadata": {
    "colab": {
     "base_uri": "https://localhost:8080/"
    },
    "id": "wm43x_KfLWA7",
    "outputId": "e77e6477-801d-477d-cdf5-ce88cb1d37e8"
   },
   "outputs": [],
   "source": [
    "from google.colab import drive\n",
    "drive.mount('/content/drive')"
   ]
  },
  {
   "cell_type": "code",
   "execution_count": 2,
   "id": "841f1d10",
   "metadata": {
    "id": "841f1d10",
    "scrolled": true
   },
   "outputs": [],
   "source": [
    "import pandas as pd\n",
    "import numpy as np\n",
    "import pickle\n",
    "import bisect\n",
    "\n",
    "from vininfo import Vin\n",
    "import matplotlib.pyplot as plt\n",
    "from tqdm.notebook import tqdm\n",
    "\n",
    "from sklearn.model_selection import train_test_split\n",
    "from collections import defaultdict\n",
    "from sklearn.metrics import mean_squared_error\n",
    "from sklearn.ensemble import RandomForestRegressor\n",
    "from sklearn.ensemble import RandomForestClassifier\n",
    "from sklearn.model_selection import GridSearchCV\n",
    "from sklearn.tree import DecisionTreeRegressor\n",
    "from sklearn.metrics import accuracy_score, mean_squared_error\n",
    "from sklearn.preprocessing import OneHotEncoder\n",
    "from sklearn.preprocessing import StandardScaler\n",
    "from sklearn.preprocessing import LabelEncoder\n",
    "from sklearn.linear_model import LogisticRegression\n",
    "from sklearn.linear_model import LassoCV\n",
    "\n",
    "from catboost import Pool, CatBoostRegressor, CatBoostClassifier, cv\n",
    "import lightgbm as lgb\n",
    "\n",
    "import warnings\n",
    "warnings.filterwarnings('ignore')"
   ]
  },
  {
   "cell_type": "markdown",
   "id": "5d7db2a0",
   "metadata": {
    "id": "5d7db2a0"
   },
   "source": [
    "# Знакомство с данными"
   ]
  },
  {
   "cell_type": "markdown",
   "id": "f312c15d",
   "metadata": {},
   "source": [
    "## Вспомогательные функции"
   ]
  },
  {
   "cell_type": "markdown",
   "id": "3f468d96",
   "metadata": {},
   "source": [
    "#### Функция для визуализации датасета"
   ]
  },
  {
   "cell_type": "code",
   "execution_count": null,
   "id": "bc1e7335",
   "metadata": {},
   "outputs": [],
   "source": [
    "def graph(df, color):\n",
    "    cat_columns = df.drop(['model', 'trim', 'vin', 'saledate', 'seller'] ,axis=1).columns.to_list()\n",
    "    numeric = df.select_dtypes(exclude='object').columns.to_list()\n",
    "    f_size = (20, 80)\n",
    "    plt.figure(figsize=f_size)\n",
    "    for i, feature in enumerate(cat_columns):\n",
    "        plt.subplot(9, 1, i+1)\n",
    "        plt.subplots_adjust(wspace=0.3, hspace=0.6)\n",
    "        df[feature].hist(bins=100, color=color)\n",
    "        plt.title(feature)\n",
    "        plt.xticks(rotation=90)\n",
    "        plt.xlabel(\"Значение признака\")\n",
    "        plt.ylabel(\"Количество\")\n",
    "    return"
   ]
  },
  {
   "cell_type": "markdown",
   "id": "d8f9aa52",
   "metadata": {},
   "source": [
    "#### Функция вывода основных параметров датасета"
   ]
  },
  {
   "cell_type": "code",
   "execution_count": null,
   "id": "95eb582c",
   "metadata": {},
   "outputs": [],
   "source": [
    "def hello(df, color):\n",
    "    print('Пример строк \\n')\n",
    "    display(df.head(5))\n",
    "    print('Размер фрейма:', df.shape)\n",
    "    print('Количество дубликатов:', df.duplicated().sum())\n",
    "    print('Количество пропусков:', df.isnull().sum().sum ())\n",
    "    print('Корреляция признаков \\n')\n",
    "    display(df.describe())\n",
    "    print('Визуализация признаков \\n')\n",
    "    graph(df, color)\n",
    "    return"
   ]
  },
  {
   "cell_type": "markdown",
   "id": "4e82b896",
   "metadata": {
    "id": "4e82b896"
   },
   "source": [
    "### train"
   ]
  },
  {
   "cell_type": "code",
   "execution_count": null,
   "id": "56c8d15b",
   "metadata": {
    "id": "56c8d15b",
    "scrolled": true
   },
   "outputs": [],
   "source": [
    "try:\n",
    "    train = pd.read_csv(\"/Users/sirena0789/Desktop/Автомобили/data/train.csv\")\n",
    "except:\n",
    "    train = pd.read_csv(\"/content/drive/MyDrive/car_cost/train.csv\")"
   ]
  },
  {
   "cell_type": "code",
   "execution_count": null,
   "id": "9243b307",
   "metadata": {
    "scrolled": false
   },
   "outputs": [],
   "source": [
    "hello(train.drop('sellingprice', axis=1), 'pink')"
   ]
  },
  {
   "cell_type": "code",
   "execution_count": null,
   "id": "cb4876dc",
   "metadata": {},
   "outputs": [],
   "source": [
    "train['sellingprice'].hist(bins=200, figsize=(18, 6), color='lightblue')\n",
    "plt.title('sellingprice')"
   ]
  },
  {
   "cell_type": "markdown",
   "id": "7a4db9bb",
   "metadata": {
    "id": "7a4db9bb"
   },
   "source": [
    "### test"
   ]
  },
  {
   "cell_type": "code",
   "execution_count": null,
   "id": "717168db",
   "metadata": {
    "id": "717168db",
    "scrolled": true
   },
   "outputs": [],
   "source": [
    "try:\n",
    "    test = pd.read_csv(\"/Users/sirena0789/Desktop/Автомобили/data/test.csv\")\n",
    "except:\n",
    "    test = pd.read_csv(\"/content/drive/MyDrive/car_cost/test.csv\")"
   ]
  },
  {
   "cell_type": "code",
   "execution_count": null,
   "id": "81466997",
   "metadata": {
    "id": "81466997",
    "outputId": "024f45c3-6b39-483c-8db8-de63ca51960a"
   },
   "outputs": [],
   "source": [
    "hello(test, 'lightgray')"
   ]
  },
  {
   "cell_type": "markdown",
   "id": "e42578d0",
   "metadata": {
    "id": "e42578d0"
   },
   "source": [
    "# Предобработка данных"
   ]
  },
  {
   "cell_type": "markdown",
   "id": "b78b3f2e",
   "metadata": {
    "id": "b78b3f2e"
   },
   "source": [
    "## Вспомогательные функции"
   ]
  },
  {
   "cell_type": "markdown",
   "id": "b767747c",
   "metadata": {},
   "source": [
    "#### Функция для понижения регистра"
   ]
  },
  {
   "cell_type": "code",
   "execution_count": null,
   "id": "6934bee9",
   "metadata": {
    "id": "6934bee9",
    "scrolled": true
   },
   "outputs": [],
   "source": [
    "def reg_low(df):\n",
    "    col_cat = ['make', 'model', 'trim', 'body', 'state', 'color', 'interior', 'seller']\n",
    "    for i in col_cat:\n",
    "        df[i] = df[i].str.lower()"
   ]
  },
  {
   "cell_type": "markdown",
   "id": "7edcb805",
   "metadata": {},
   "source": [
    "#### Функция для удаления столбца с датой и добавления возраста машины и дня недели продажи"
   ]
  },
  {
   "cell_type": "code",
   "execution_count": null,
   "id": "ddd355a7",
   "metadata": {
    "id": "ddd355a7",
    "scrolled": true
   },
   "outputs": [],
   "source": [
    "def change_date(df):\n",
    "    df['saledate'] = pd.to_datetime(df['saledate'], utc=True)\n",
    "    df['saleyaer'] = pd.DatetimeIndex(df['saledate']).year\n",
    "    df['weekday'] = df['saledate'].dt.weekday\n",
    "    df['machineage'] =  df['saleyaer'] - df['year']\n",
    "    df = df.drop(['saledate'], axis=1)\n",
    "    return(df)"
   ]
  },
  {
   "cell_type": "markdown",
   "id": "e28b787a",
   "metadata": {
    "id": "e28b787a"
   },
   "source": [
    "## Основная часть"
   ]
  },
  {
   "cell_type": "markdown",
   "id": "a29986e5",
   "metadata": {},
   "source": [
    "#### Изменение формата даты и добавление новых признаков"
   ]
  },
  {
   "cell_type": "code",
   "execution_count": null,
   "id": "6c152191",
   "metadata": {
    "id": "6c152191"
   },
   "outputs": [],
   "source": [
    "train = change_date(train)\n",
    "\n",
    "test = change_date(test)"
   ]
  },
  {
   "cell_type": "markdown",
   "id": "10e12dc1",
   "metadata": {},
   "source": [
    "#### Изменение 141 строки с machineage = -1 на 0"
   ]
  },
  {
   "cell_type": "code",
   "execution_count": null,
   "id": "b21bde7b",
   "metadata": {},
   "outputs": [],
   "source": [
    "train.loc[train['machineage'] < 0, 'machineage'] = 0"
   ]
  },
  {
   "cell_type": "markdown",
   "id": "695d1ea7",
   "metadata": {},
   "source": [
    "#### Изменение 29 строк с machineage = -1"
   ]
  },
  {
   "cell_type": "code",
   "execution_count": null,
   "id": "f2ae77dc",
   "metadata": {},
   "outputs": [],
   "source": [
    "test.loc[test['machineage'] < 0, 'machineage'] = 0"
   ]
  },
  {
   "cell_type": "markdown",
   "id": "93c852a4",
   "metadata": {},
   "source": [
    "#### Удаление 1 строки с sellingprice = 1"
   ]
  },
  {
   "cell_type": "code",
   "execution_count": null,
   "id": "a30c60a0",
   "metadata": {
    "id": "a30c60a0",
    "scrolled": true
   },
   "outputs": [],
   "source": [
    "train = train[train['sellingprice'] >= 100]"
   ]
  },
  {
   "cell_type": "markdown",
   "id": "5548ba65",
   "metadata": {},
   "source": [
    "#### Понижение регистра для удаления неявных дубликатов"
   ]
  },
  {
   "cell_type": "code",
   "execution_count": null,
   "id": "6fdc6e17",
   "metadata": {
    "id": "6fdc6e17",
    "scrolled": true
   },
   "outputs": [],
   "source": [
    "reg_low(train)\n",
    "\n",
    "reg_low(test)"
   ]
  },
  {
   "cell_type": "markdown",
   "id": "bb704781",
   "metadata": {
    "id": "bb704781"
   },
   "source": [
    "# Заполнение пропусков"
   ]
  },
  {
   "cell_type": "markdown",
   "id": "QoTh0wFOV79-",
   "metadata": {
    "id": "QoTh0wFOV79-"
   },
   "source": [
    "## Вспомогательные функции"
   ]
  },
  {
   "cell_type": "markdown",
   "id": "3bcab91f",
   "metadata": {},
   "source": [
    "#### Функция для заполнения make с использованием vininfo"
   ]
  },
  {
   "cell_type": "code",
   "execution_count": null,
   "id": "cla_BE7ka9Gm",
   "metadata": {
    "id": "cla_BE7ka9Gm"
   },
   "outputs": [],
   "source": [
    "def vin(df):\n",
    "    df.loc[df['make'].isnull(), 'make'] = df.loc[df['make'].isnull()].apply(\n",
    "        lambda row: Vin(row['vin']).manufacturer, axis=1)\n",
    "    return (df)"
   ]
  },
  {
   "cell_type": "markdown",
   "id": "0c0cd426",
   "metadata": {},
   "source": [
    "#### Функция для заполнения мультиклассовых категориальных столбцов"
   ]
  },
  {
   "cell_type": "code",
   "execution_count": null,
   "id": "0ldYBPCKWFNb",
   "metadata": {
    "id": "0ldYBPCKWFNb"
   },
   "outputs": [],
   "source": [
    "def filling_multiclass(df1, df2, column, columns, encoder_columns):\n",
    "\n",
    "    name1 = df1.columns\n",
    "    df_test1 = df1.loc[df1[column].isnull()]\n",
    "    ind1 = df_test1.index\n",
    "\n",
    "    name2 = df2.columns\n",
    "    df_test2 = df2.loc[df2[column].isnull()]\n",
    "    ind2 = df_test2.index\n",
    "\n",
    "    df_train1 = df1.loc[df1[column].notna()]\n",
    "    df_train2 = df2.loc[df2[column].notna()]\n",
    "\n",
    "\n",
    "    df_target = df_train1[column]\n",
    "    df_features = df_train1.drop(columns, axis=1)\n",
    "    df_features = df_features.drop(['sellingprice'], axis=1)\n",
    "    df_features = df_features.drop(column, axis=1)\n",
    "\n",
    "\n",
    "    df_test1_new = df_test1.drop(column, axis=1)\n",
    "    df_test2_new = df_test2.drop(column, axis=1)\n",
    "\n",
    "    df_test1 = df_test1.drop(column, axis=1)\n",
    "    df_test1 = df_test1.drop(columns, axis=1)\n",
    "    df_test2 = df_test2.drop(column, axis=1)\n",
    "    df_test2 = df_test2.drop(columns, axis=1)\n",
    "\n",
    "    df_test1 = df_test1.drop(['sellingprice'], axis=1)\n",
    "\n",
    "    le = LabelEncoder()\n",
    "\n",
    "    for i in encoder_columns:\n",
    "        df_features[i] = le.fit_transform(df_features[i])\n",
    "        df_test1[i] = df_test1[i].map(lambda s: 'other' if s not in le.classes_ else s)\n",
    "        df_test2[i] = df_test2[i].map(lambda s: 'other' if s not in le.classes_ else s)\n",
    "        le_classes = le.classes_.tolist()\n",
    "        bisect.insort_left(le_classes, 'other')\n",
    "        le.classes_ = np.array(le_classes)\n",
    "        df_test1[i] = le.transform(df_test1[i])\n",
    "        df_test2[i] = le.transform(df_test2[i])\n",
    "\n",
    "    features_train, features_valid, target_train, target_valid = train_test_split(\n",
    "        df_features, df_target, test_size=0.25, random_state=1234)\n",
    "\n",
    "    model = RandomForestClassifier(random_state=12345, criterion = 'entropy')\n",
    "\n",
    "    model.fit(features_train, target_train)\n",
    "\n",
    "    accuracy = accuracy_score(target_valid, model.predict(features_valid))\n",
    "    target_predict1 = model.predict(df_test1)\n",
    "    target_predict2 = model.predict(df_test2)\n",
    "\n",
    "    target_predict1 = pd.Series(data=target_predict1, index=ind1)\n",
    "    target_predict2 = pd.Series(data=target_predict2, index=ind2)\n",
    "\n",
    "    df_test1_new[column] = target_predict1\n",
    "    df_test2_new[column] = target_predict2\n",
    "\n",
    "    df_test1_new = df_test1_new[name1]\n",
    "    df_test2_new = df_test2_new[name2]\n",
    "\n",
    "    df_new1 = pd.concat([df_train1, df_test1_new], axis=0)\n",
    "    df_new2 = pd.concat([df_train2, df_test2_new], axis=0)\n",
    "    return df_new1, df_new2, accuracy"
   ]
  },
  {
   "cell_type": "markdown",
   "id": "b11e7e5b",
   "metadata": {},
   "source": [
    "#### Функция для заполнения бинарных категориальных столбцов"
   ]
  },
  {
   "cell_type": "code",
   "execution_count": null,
   "id": "s6SmoP0Ccc1g",
   "metadata": {
    "id": "s6SmoP0Ccc1g"
   },
   "outputs": [],
   "source": [
    "def filling_binary(df1, df2, column, columns):\n",
    "\n",
    "    name1 = df1.columns\n",
    "    df_test1 = df1.loc[df1[column].isnull()]\n",
    "    ind1 = df_test1.index\n",
    "\n",
    "    name2 = df2.columns\n",
    "    df_test2 = df2.loc[df2[column].isnull()]\n",
    "    ind2 = df_test2.index\n",
    "\n",
    "    df_train1 = df1.loc[df1[column].notna()]\n",
    "    df_train2 = df2.loc[df2[column].notna()]\n",
    "\n",
    "\n",
    "    df_target = df_train1[column]\n",
    "    df_features = df_train1.drop(columns, axis=1)\n",
    "    df_features = df_features.drop(['sellingprice'], axis=1)\n",
    "    df_features = df_features.drop(column, axis=1)\n",
    "\n",
    "\n",
    "    df_test1_new = df_test1.drop(column, axis=1)\n",
    "    df_test2_new = df_test2.drop(column, axis=1)\n",
    "\n",
    "    df_test1 = df_test1.drop(column, axis=1)\n",
    "    df_test1 = df_test1.drop(columns, axis=1)\n",
    "    df_test2 = df_test2.drop(column, axis=1)\n",
    "    df_test2 = df_test2.drop(columns, axis=1)\n",
    "\n",
    "    df_test1 = df_test1.drop(['sellingprice'], axis=1)\n",
    "\n",
    "    features_train, features_valid, target_train, target_valid = train_test_split(\n",
    "        df_features, df_target, test_size=0.25, random_state=1234)\n",
    "\n",
    "    model = CatBoostClassifier(learning_rate=0.2, random_state=1234, verbose=False, task_type=\"GPU\",\n",
    "                          cat_features=[\"make\",\"model\",\"trim\",\n",
    "                                        \"body\",\"state\",\"color\", \"interior\", \"seller\"])\n",
    "\n",
    "    model.fit(features_train, target_train)\n",
    "\n",
    "    accuracy = accuracy_score(target_valid, model.predict(features_valid))\n",
    "    target_predict1 = model.predict(df_test1)\n",
    "    target_predict2 = model.predict(df_test2)\n",
    "\n",
    "    target_predict1 = pd.Series(data=target_predict1, index=ind1)\n",
    "    target_predict2 = pd.Series(data=target_predict2, index=ind2)\n",
    "\n",
    "    df_test1_new[column] = target_predict1\n",
    "    df_test2_new[column] = target_predict2\n",
    "\n",
    "    df_test1_new = df_test1_new[name1]\n",
    "    df_test2_new = df_test2_new[name2]\n",
    "\n",
    "    df_new1 = pd.concat([df_train1, df_test1_new], axis=0)\n",
    "    df_new2 = pd.concat([df_train2, df_test2_new], axis=0)\n",
    "    return df_new1, df_new2, accuracy"
   ]
  },
  {
   "cell_type": "markdown",
   "id": "39a6eb3e",
   "metadata": {},
   "source": [
    "#### Функция для заполнения численных столбцов"
   ]
  },
  {
   "cell_type": "code",
   "execution_count": null,
   "id": "uYMPecN3eFO3",
   "metadata": {
    "id": "uYMPecN3eFO3"
   },
   "outputs": [],
   "source": [
    "def filling_regressor(df1, df2, column, columns):\n",
    "\n",
    "    name1 = df1.columns\n",
    "    df_test1 = df1.loc[df1[column].isnull()]\n",
    "    ind1 = df_test1.index\n",
    "\n",
    "    name2 = df2.columns\n",
    "    df_test2 = df2.loc[df2[column].isnull()]\n",
    "    ind2 = df_test2.index\n",
    "\n",
    "    df_train1 = df1.loc[df1[column].notna()]\n",
    "    df_train2 = df2.loc[df2[column].notna()]\n",
    "\n",
    "\n",
    "    df_target = df_train1[column]\n",
    "    df_features = df_train1.drop(columns, axis=1)\n",
    "    df_features = df_features.drop(['sellingprice'], axis=1)\n",
    "    df_features = df_features.drop(column, axis=1)\n",
    "\n",
    "\n",
    "    df_test1_new = df_test1.drop(column, axis=1)\n",
    "    df_test2_new = df_test2.drop(column, axis=1)\n",
    "\n",
    "    df_test1 = df_test1.drop(column, axis=1)\n",
    "    df_test1 = df_test1.drop(columns, axis=1)\n",
    "    df_test2 = df_test2.drop(column, axis=1)\n",
    "    df_test2 = df_test2.drop(columns, axis=1)\n",
    "\n",
    "    df_test1 = df_test1.drop(['sellingprice'], axis=1)\n",
    "\n",
    "    features_train, features_valid, target_train, target_valid = train_test_split(\n",
    "        df_features, df_target, test_size=0.25, random_state=1234)\n",
    "\n",
    "    model = CatBoostRegressor(random_state=12345, task_type=\"GPU\", eval_metric=\"RMSE\",\n",
    "                              cat_features=['make', 'model', 'trim', 'body',\n",
    "                                            'state','color','interior', 'seller', 'transmission'],\n",
    "                              learning_rate=0.2, verbose= False)\n",
    "\n",
    "    model.fit(features_train, target_train)\n",
    "\n",
    "    MSE = mean_squared_error(target_valid, model.predict(features_valid))\n",
    "    target_predict1 = model.predict(df_test1)\n",
    "    target_predict2 = model.predict(df_test2)\n",
    "\n",
    "    target_predict1 = pd.Series(data=target_predict1, index=ind1)\n",
    "    target_predict2 = pd.Series(data=target_predict2, index=ind2)\n",
    "\n",
    "    df_test1_new[column] = target_predict1\n",
    "    df_test2_new[column] = target_predict2\n",
    "\n",
    "    df_test1_new = df_test1_new[name1]\n",
    "    df_test2_new = df_test2_new[name2]\n",
    "\n",
    "    df_new1 = pd.concat([df_train1, df_test1_new], axis=0)\n",
    "    df_new2 = pd.concat([df_train2, df_test2_new], axis=0)\n",
    "    return df_new1, df_new2, MSE"
   ]
  },
  {
   "cell_type": "markdown",
   "id": "9bfc6c90",
   "metadata": {
    "id": "9bfc6c90"
   },
   "source": [
    "## Основная часть"
   ]
  },
  {
   "cell_type": "markdown",
   "id": "bb4d0e95",
   "metadata": {},
   "source": [
    "#### Заполнение пропусков в 'color', 'interior'"
   ]
  },
  {
   "cell_type": "code",
   "execution_count": null,
   "id": "0da4420e",
   "metadata": {
    "id": "0da4420e",
    "scrolled": true
   },
   "outputs": [],
   "source": [
    "train['color'] = train['color'].fillna('-')\n",
    "train['interior'] = train['interior'].fillna('-')\n",
    "\n",
    "test['color'] = test['color'].fillna('-')\n",
    "test['interior'] = test['interior'].fillna('-')"
   ]
  },
  {
   "cell_type": "markdown",
   "id": "26aac0c8",
   "metadata": {},
   "source": [
    "#### Заполнение пропусков в 'make'"
   ]
  },
  {
   "cell_type": "code",
   "execution_count": null,
   "id": "fd5288fd",
   "metadata": {
    "id": "fd5288fd",
    "scrolled": true
   },
   "outputs": [],
   "source": [
    "train = vin(train)\n",
    "\n",
    "test = vin(test)"
   ]
  },
  {
   "cell_type": "markdown",
   "id": "a5e4d4bc",
   "metadata": {},
   "source": [
    "#### Удаление вин"
   ]
  },
  {
   "cell_type": "code",
   "execution_count": null,
   "id": "8e376630",
   "metadata": {
    "id": "8e376630",
    "scrolled": true
   },
   "outputs": [],
   "source": [
    "train = train.drop(['vin'], axis=1)"
   ]
  },
  {
   "cell_type": "markdown",
   "id": "d6644c73",
   "metadata": {},
   "source": [
    "#### Сохранение индексов и вина из теста для итогового файла"
   ]
  },
  {
   "cell_type": "code",
   "execution_count": null,
   "id": "66be928d",
   "metadata": {},
   "outputs": [],
   "source": [
    "ind = test.index\n",
    "vin_test = test['vin']\n",
    "vin_test = pd.DataFrame(data=vin_test, index=ind)\n",
    "test = test.drop(['vin'], axis=1)"
   ]
  },
  {
   "cell_type": "markdown",
   "id": "192c9ddf",
   "metadata": {},
   "source": [
    "#### Повторное понижение регистра после заполнения'make'"
   ]
  },
  {
   "cell_type": "code",
   "execution_count": null,
   "id": "90ad6826",
   "metadata": {
    "id": "90ad6826"
   },
   "outputs": [],
   "source": [
    "reg_low(train)\n",
    "reg_low(test)"
   ]
  },
  {
   "cell_type": "markdown",
   "id": "d4742c6d",
   "metadata": {},
   "source": [
    "#### Заполнение 'model'"
   ]
  },
  {
   "cell_type": "code",
   "execution_count": null,
   "id": "cypJAghWWReF",
   "metadata": {
    "id": "cypJAghWWReF"
   },
   "outputs": [],
   "source": [
    "column = 'model'\n",
    "columns = ['trim','body','transmission','condition' ,\n",
    "           'odometer', 'saleyaer', 'weekday']\n",
    "encoder_columns = ['make', 'state','color', 'interior', 'seller']\n",
    "\n",
    "train, test, acc = filling_multiclass(train, test, column, columns, encoder_columns)"
   ]
  },
  {
   "cell_type": "markdown",
   "id": "c83f80b3",
   "metadata": {},
   "source": [
    "#### Заполнение 'trim'"
   ]
  },
  {
   "cell_type": "code",
   "execution_count": null,
   "id": "QeOZ8KLDXih4",
   "metadata": {
    "id": "QeOZ8KLDXih4"
   },
   "outputs": [],
   "source": [
    "column = 'trim'\n",
    "columns = ['body','transmission','condition' ,\n",
    "           'odometer', 'saleyaer', 'weekday']\n",
    "encoder_columns = ['make', 'model', 'state','color', 'interior', 'seller']\n",
    "\n",
    "train, test, acc = filling_multiclass(train, test, column, columns, encoder_columns)"
   ]
  },
  {
   "cell_type": "markdown",
   "id": "adee1d80",
   "metadata": {},
   "source": [
    "#### Заполнение 'body'"
   ]
  },
  {
   "cell_type": "code",
   "execution_count": null,
   "id": "3Nb0ZRBvaxos",
   "metadata": {
    "id": "3Nb0ZRBvaxos"
   },
   "outputs": [],
   "source": [
    "column = 'body'\n",
    "columns = ['transmission','condition' ,\n",
    "           'odometer', 'saleyaer', 'weekday']\n",
    "encoder_columns = ['make', 'model', 'trim', 'state','color', 'interior', 'seller']\n",
    "\n",
    "train, test, acc = filling_multiclass(train, test, column, columns, encoder_columns)"
   ]
  },
  {
   "cell_type": "markdown",
   "id": "55a4c36d",
   "metadata": {},
   "source": [
    "#### Заполнение 'transmission'"
   ]
  },
  {
   "cell_type": "code",
   "execution_count": null,
   "id": "_2t-FWfdcsa3",
   "metadata": {
    "id": "_2t-FWfdcsa3"
   },
   "outputs": [],
   "source": [
    "column = 'transmission'\n",
    "columns = ['condition' , 'odometer', 'saleyaer', 'weekday']\n",
    "\n",
    "train, test, acc = filling_binary(train, test, column, columns)"
   ]
  },
  {
   "cell_type": "markdown",
   "id": "a942661e",
   "metadata": {},
   "source": [
    "#### Заполнение 'condition'"
   ]
  },
  {
   "cell_type": "code",
   "execution_count": null,
   "id": "10Y7H2eYd4xa",
   "metadata": {
    "colab": {
     "base_uri": "https://localhost:8080/"
    },
    "id": "10Y7H2eYd4xa",
    "outputId": "54d7ebf5-e9a5-49c9-9159-7cec3b6a51f6"
   },
   "outputs": [],
   "source": [
    "column = 'condition'\n",
    "columns = ['odometer', 'saleyaer', 'weekday']\n",
    "\n",
    "train, test, MSE = filling_regressor(train, test, column, columns)"
   ]
  },
  {
   "cell_type": "markdown",
   "id": "cf150001",
   "metadata": {},
   "source": [
    "#### Заполнение 'odometer'"
   ]
  },
  {
   "cell_type": "code",
   "execution_count": null,
   "id": "Qxlz_NALrvHn",
   "metadata": {
    "id": "Qxlz_NALrvHn"
   },
   "outputs": [],
   "source": [
    "column = 'odometer'\n",
    "columns = ['saleyaer', 'weekday']\n",
    "\n",
    "train, test, MSE = filling_regressor(train, test, column, columns)"
   ]
  },
  {
   "cell_type": "markdown",
   "id": "bff06546",
   "metadata": {
    "id": "bff06546"
   },
   "source": [
    "### Сохранение заполненых фреймов в файл"
   ]
  },
  {
   "cell_type": "code",
   "execution_count": null,
   "id": "b8ea349c",
   "metadata": {
    "id": "b8ea349c"
   },
   "outputs": [],
   "source": [
    "try:\n",
    "    train.to_csv(\"/Users/sirena0789/Desktop/Автомобили/data/train_notnull.csv\")\n",
    "    test.to_csv(\"/Users/sirena0789/Desktop/Автомобили/data/test_notnul.csv\")\n",
    "except:\n",
    "    test.to_csv('/content/drive/MyDrive/car_cost/test_notnull.csv')\n",
    "    train.to_csv('/content/drive/MyDrive/car_cost/train_notnull.csv')"
   ]
  },
  {
   "cell_type": "markdown",
   "id": "f5f55b67",
   "metadata": {
    "id": "f5f55b67"
   },
   "source": [
    "### Изьятие заполненых фреймов из файла (опционально)"
   ]
  },
  {
   "cell_type": "code",
   "execution_count": 3,
   "id": "aa2b1316",
   "metadata": {
    "id": "aa2b1316"
   },
   "outputs": [],
   "source": [
    "try:\n",
    "    train = pd.read_csv(\"/Users/sirena0789/Desktop/Автомобили/data/train_notnull.csv\", index_col=0)\n",
    "    test = pd.read_csv(\"/Users/sirena0789/Desktop/Автомобили/data/test_notnull.csv\", index_col=0)\n",
    "except:\n",
    "    train = pd.read_csv(\"/content/drive/MyDrive/car_cost/train_notnull.csv\", index_col=0)\n",
    "    test = pd.read_csv(\"/content/drive/MyDrive/car_cost/test_notnull.csv\", index_col=0)"
   ]
  },
  {
   "cell_type": "markdown",
   "id": "e98c3c4f",
   "metadata": {
    "id": "e98c3c4f"
   },
   "source": [
    "# Работа с выборками"
   ]
  },
  {
   "cell_type": "markdown",
   "id": "e918cbb2",
   "metadata": {
    "id": "e918cbb2"
   },
   "source": [
    "## Вспомогательные функции"
   ]
  },
  {
   "cell_type": "markdown",
   "id": "da08dcd0",
   "metadata": {},
   "source": [
    "### Функция для LabelEncoder()"
   ]
  },
  {
   "cell_type": "code",
   "execution_count": 4,
   "id": "5078ccb7",
   "metadata": {
    "id": "5078ccb7"
   },
   "outputs": [],
   "source": [
    "def LE(df_features, df_test, cat_columns):\n",
    "    le = LabelEncoder()\n",
    "    for i in cat_columns:\n",
    "        df_features[i] = le.fit_transform(df_features[i])\n",
    "        df_test[i] = df_test[i].map(lambda s: 'other' if s not in le.classes_ else s)\n",
    "        le_classes = le.classes_.tolist()\n",
    "        bisect.insort_left(le_classes, 'other')\n",
    "        le.classes_ = np.array(le_classes)\n",
    "        df_test[i] = le.transform(df_test[i])\n",
    "    return df_features, df_test"
   ]
  },
  {
   "cell_type": "markdown",
   "id": "8337576e",
   "metadata": {},
   "source": [
    "### Функция для StandardScaler()"
   ]
  },
  {
   "cell_type": "code",
   "execution_count": 5,
   "id": "d566282b",
   "metadata": {
    "id": "d566282b"
   },
   "outputs": [],
   "source": [
    "def scaler(features_train,features_test, columns):\n",
    "    scaler = StandardScaler()\n",
    "\n",
    "    scaler.fit(features_train[columns])\n",
    "\n",
    "    features_train = features_train.copy()\n",
    "    features_train[columns] = scaler.transform(features_train[columns])\n",
    "\n",
    "    features_test = features_test.copy()\n",
    "    features_test[columns] = scaler.transform(features_test[columns])\n",
    "    return features_train, features_test"
   ]
  },
  {
   "cell_type": "markdown",
   "id": "6e5ac5c3",
   "metadata": {},
   "source": [
    "### Функция для OHE()"
   ]
  },
  {
   "cell_type": "code",
   "execution_count": null,
   "id": "c4f83b9b",
   "metadata": {
    "id": "c4f83b9b"
   },
   "outputs": [],
   "source": [
    "def OHE(df1, df2):\n",
    "    \n",
    "    cat_columns = df1.select_dtypes(include='object').columns.to_list()\n",
    "\n",
    "    encoder = OneHotEncoder(handle_unknown='ignore')\n",
    "    encoder_df = pd.DataFrame(encoder.fit_transform(df1[cat_columns]).toarray())\n",
    "    df1_enc = df1.join(encoder_df)\n",
    "    df1 = df1_enc.drop(cat_columns, axis=1)\n",
    "    \n",
    "    encoder_df = pd.DataFrame(encoder.transform(df2[cat_columns]).toarray())\n",
    "    df2_enc = df2.join(encoder_df)\n",
    "    df2 = df2_enc.drop(cat_columns, axis=1)\n",
    "    \n",
    "    return df1, df2"
   ]
  },
  {
   "cell_type": "markdown",
   "id": "be44db28",
   "metadata": {},
   "source": [
    "## Основная часть"
   ]
  },
  {
   "cell_type": "markdown",
   "id": "24f74057",
   "metadata": {},
   "source": [
    "### Составление трех пар выборок для тестирования"
   ]
  },
  {
   "cell_type": "code",
   "execution_count": 6,
   "id": "AaBME3WzUoeP",
   "metadata": {
    "id": "AaBME3WzUoeP",
    "scrolled": true
   },
   "outputs": [],
   "source": [
    "features_original = train.drop('sellingprice', axis=1)\n",
    "test_original = test.copy()\n",
    "\n",
    "features_le = train.drop('sellingprice', axis=1)\n",
    "test_le = test.copy()\n",
    "\n",
    "features_ohe = train.drop('sellingprice', axis=1)\n",
    "test_ohe = test.copy()\n",
    "\n",
    "target = train['sellingprice']"
   ]
  },
  {
   "cell_type": "markdown",
   "id": "ad43d03e",
   "metadata": {},
   "source": [
    "### Выявление котегориальных и численных столбцов"
   ]
  },
  {
   "cell_type": "code",
   "execution_count": 7,
   "id": "9176fd2a",
   "metadata": {
    "id": "9176fd2a"
   },
   "outputs": [],
   "source": [
    "cat_columns = features_original.select_dtypes(include='object').columns.to_list()\n",
    "numeric = features_original.select_dtypes(exclude='object').columns.to_list()"
   ]
  },
  {
   "cell_type": "markdown",
   "id": "24d739d8",
   "metadata": {},
   "source": [
    "### Обработка  выборки с помощью StandardScaler"
   ]
  },
  {
   "cell_type": "code",
   "execution_count": 25,
   "id": "16519a5e",
   "metadata": {
    "id": "16519a5e"
   },
   "outputs": [],
   "source": [
    "features_original, test_original = scaler(features_original, test_original, numeric)"
   ]
  },
  {
   "cell_type": "markdown",
   "id": "4d6f0dd2",
   "metadata": {},
   "source": [
    "### Обработка  выборки с помощью LabelEncoder"
   ]
  },
  {
   "cell_type": "code",
   "execution_count": 8,
   "id": "8c8091e4",
   "metadata": {
    "colab": {
     "base_uri": "https://localhost:8080/"
    },
    "id": "8c8091e4",
    "outputId": "91a4d72a-0dfe-41db-baa5-8e3cb46429e9"
   },
   "outputs": [],
   "source": [
    "features_le, test_le = scaler(features_le, test_le, numeric)\n",
    "features_le, test_le = LE(features_le, test_le, cat_columns)"
   ]
  },
  {
   "cell_type": "markdown",
   "id": "81fd2e2c",
   "metadata": {},
   "source": [
    "### Обработка  выборки с помощью OHE"
   ]
  },
  {
   "cell_type": "code",
   "execution_count": null,
   "id": "2ce10f85",
   "metadata": {},
   "outputs": [],
   "source": [
    "features_ohe, test_ohe = scaler(features_ohe, test_ohe, numeric)\n",
    "features_ohe, test_ohe = OHE(features_ohe, test_ohe)"
   ]
  },
  {
   "cell_type": "markdown",
   "id": "b4a016e5",
   "metadata": {},
   "source": [
    "### Деление выборки на обучающую и валидационную"
   ]
  },
  {
   "cell_type": "code",
   "execution_count": 27,
   "id": "2e47aa65",
   "metadata": {
    "id": "2e47aa65"
   },
   "outputs": [],
   "source": [
    "features_original_train, features_original_valid, target_original_train, target_original_valid = train_test_split(\n",
    "    features_original, target, test_size=0.25, random_state=1234)"
   ]
  },
  {
   "cell_type": "code",
   "execution_count": 9,
   "id": "565cc307",
   "metadata": {},
   "outputs": [],
   "source": [
    "features_le_train, features_le_valid, target_le_train, target_le_valid = train_test_split(\n",
    "    features_le, target, test_size=0.25, random_state=1234)"
   ]
  },
  {
   "cell_type": "code",
   "execution_count": null,
   "id": "9ca1a903",
   "metadata": {
    "id": "9ca1a903"
   },
   "outputs": [],
   "source": [
    "features_ohe_train, features_ohe_valid, target_ohe_train, target_ohe_valid = train_test_split(\n",
    "    features_ohe, target, test_size=0.25, random_state=1234)"
   ]
  },
  {
   "cell_type": "markdown",
   "id": "021ee99e",
   "metadata": {
    "id": "021ee99e"
   },
   "source": [
    "# Обучение моделей"
   ]
  },
  {
   "cell_type": "markdown",
   "id": "96ee7c58",
   "metadata": {},
   "source": [
    "### Функция для вычисления mape"
   ]
  },
  {
   "cell_type": "code",
   "execution_count": 10,
   "id": "bbaaf535",
   "metadata": {
    "id": "bbaaf535"
   },
   "outputs": [],
   "source": [
    "def mape(test, pred):\n",
    "    test, pred = np.array(test), np.array(pred)\n",
    "    mape = np.mean(np.abs((test - pred) / test))\n",
    "    return mape"
   ]
  },
  {
   "cell_type": "markdown",
   "id": "6079d2f9",
   "metadata": {},
   "source": [
    "## CatBoost"
   ]
  },
  {
   "cell_type": "markdown",
   "id": "4ea85107",
   "metadata": {
    "id": "4ea85107"
   },
   "source": [
    "### Оригинальная выборка"
   ]
  },
  {
   "cell_type": "code",
   "execution_count": 28,
   "id": "f21d9623",
   "metadata": {
    "colab": {
     "base_uri": "https://localhost:8080/"
    },
    "id": "f21d9623",
    "outputId": "edd371a1-4e12-40a1-e5c8-de0aa0dbff82",
    "scrolled": false
   },
   "outputs": [
    {
     "name": "stdout",
     "output_type": "stream",
     "text": [
      "MAPE: 0.1791468396640985\n",
      "Best parameters:\n",
      "{'iterations': 3000, 'learning_rate': 0.03, 'random_state': 1234, 'verbose': False}\n",
      "CPU times: user 21min 55s, sys: 25.9 s, total: 22min 21s\n",
      "Wall time: 13min 33s\n"
     ]
    }
   ],
   "source": [
    "%%time\n",
    "\n",
    "model = CatBoostRegressor(cat_features=['make', 'model', 'trim', 'body',\n",
    "                                 'transmission', 'state','color',\n",
    "                                 'interior', 'seller']) #, task_type='GPU'\n",
    "\n",
    "params = [{'learning_rate':[0.01, 0.03],\n",
    "           'iterations':[1000, 3000],\n",
    "           'random_state':[1234],\n",
    "           'verbose':[False]}]\n",
    "\n",
    "cbr_or = GridSearchCV(estimator = model, param_grid = params, cv = 2,\n",
    "                   n_jobs = -1, scoring='neg_mean_absolute_percentage_error', \n",
    "                      error_score='raise')\n",
    "\n",
    "cbr_or.fit(features_original_train, target_original_train)\n",
    "\n",
    "pred = cbr_or.predict(features_original_valid)\n",
    "MAPE_CBR_original = mape(target_original_valid, pred)\n",
    "print(\"MAPE:\", MAPE_CBR_original)\n",
    "\n",
    "print(\"Best parameters:\")\n",
    "print(cbr_or.best_params_)"
   ]
  },
  {
   "cell_type": "markdown",
   "id": "9906d358",
   "metadata": {},
   "source": [
    "### LabelEncoder выборка"
   ]
  },
  {
   "cell_type": "code",
   "execution_count": 30,
   "id": "966c0d24",
   "metadata": {},
   "outputs": [
    {
     "name": "stdout",
     "output_type": "stream",
     "text": [
      "MAPE: 0.20897658475374445\n",
      "Best parameters:\n",
      "{'iterations': 3000, 'learning_rate': 0.03, 'random_state': 1234, 'verbose': False}\n",
      "CPU times: user 2min 25s, sys: 10.8 s, total: 2min 36s\n",
      "Wall time: 1min 25s\n"
     ]
    }
   ],
   "source": [
    "%%time\n",
    "\n",
    "model = CatBoostRegressor(random_state=1234) #, task_type='GPU'\n",
    "\n",
    "params = [{'learning_rate':[0.01, 0.03],\n",
    "           'iterations':[1000, 3000],\n",
    "           'random_state':[1234],\n",
    "           'verbose':[False]}]\n",
    "\n",
    "cbr_le = GridSearchCV(estimator = model, param_grid = params, cv = 2,\n",
    "                   n_jobs = -1, scoring='neg_mean_absolute_percentage_error',\n",
    "                      error_score='raise')\n",
    "\n",
    "cbr_le.fit(features_le_train, target_le_train)\n",
    "\n",
    "pred = cbr_le.predict(features_le_valid)\n",
    "MAPE_CBR_LE = mape(target_le_valid, pred)\n",
    "print(\"MAPE:\", MAPE_CBR_LE)\n",
    "\n",
    "print(\"Best parameters:\")\n",
    "print(cbr_le.best_params_)"
   ]
  },
  {
   "cell_type": "markdown",
   "id": "b61df0f2",
   "metadata": {},
   "source": [
    "### OHE выборка"
   ]
  },
  {
   "cell_type": "code",
   "execution_count": null,
   "id": "ecbaf2fe",
   "metadata": {
    "id": "ecbaf2fe"
   },
   "outputs": [],
   "source": [
    "%%time\n",
    "\n",
    "model = CatBoostRegressor() #, task_type='GPU'\n",
    "\n",
    "params = [{'learning_rate':[0.01, 0.03],\n",
    "           'iterations':[1000, 3000],\n",
    "          'random_state':[1234],\n",
    "          'verbose':[False]}]\n",
    "\n",
    "cbr_ohe = GridSearchCV(estimator = model, param_grid = params, cv = 2,\n",
    "                   n_jobs = -1, scoring='neg_mean_absolute_percentage_error', \n",
    "                       error_score='raise')\n",
    "\n",
    "cbr_ohe.fit(features_ohe_train, target_ohe_train)\n",
    "\n",
    "pred = cbr_ohe.predict(features_ohe_valid)\n",
    "MAPE_CBR_OHE = mape(target_ohe_valid, pred)\n",
    "print(\"Best parameters:\")\n",
    "print(clf.best_params_)\n",
    "print(\"MAPE:\", MAPE_CBR_OHE)"
   ]
  },
  {
   "cell_type": "markdown",
   "id": "76892971",
   "metadata": {
    "id": "76892971"
   },
   "source": [
    "## DecisionTreeRegressor"
   ]
  },
  {
   "cell_type": "markdown",
   "id": "898e6b28",
   "metadata": {
    "id": "898e6b28"
   },
   "source": [
    "### LabelEncoder выборка"
   ]
  },
  {
   "cell_type": "code",
   "execution_count": 21,
   "id": "2dc5cf8a",
   "metadata": {
    "colab": {
     "base_uri": "https://localhost:8080/",
     "height": 453
    },
    "id": "2dc5cf8a",
    "outputId": "ea22828a-d8e4-4af1-82da-c2ef899c7f2e",
    "scrolled": true
   },
   "outputs": [
    {
     "name": "stdout",
     "output_type": "stream",
     "text": [
      "MAPE: 0.23331688830163927\n",
      "Best parameters:\n",
      "{'max_depth': 19, 'random_state': 1234}\n",
      "CPU times: user 24 s, sys: 222 ms, total: 24.2 s\n",
      "Wall time: 24.2 s\n"
     ]
    }
   ],
   "source": [
    "%%time\n",
    "\n",
    "model = DecisionTreeRegressor()\n",
    "\n",
    "params = [{'max_depth': range(1, 30, 2),\n",
    "          'random_state':[1234]}]\n",
    "\n",
    "dtr = GridSearchCV(estimator = model, param_grid = params, cv = 2, \n",
    "                       scoring='neg_mean_absolute_percentage_error', error_score='raise')\n",
    "\n",
    "dtr.fit(features_le_train, target_le_train)\n",
    "\n",
    "pred = dtr.predict(features_le_valid)\n",
    "MAPE_DTR_le = mape(target_le_valid, pred)\n",
    "print(\"MAPE:\", MAPE_DTR_le)\n",
    "\n",
    "print(\"Best parameters:\")\n",
    "print(dtr.best_params_)"
   ]
  },
  {
   "cell_type": "markdown",
   "id": "003a4b89",
   "metadata": {
    "id": "003a4b89"
   },
   "source": [
    "### OHE выборка"
   ]
  },
  {
   "cell_type": "code",
   "execution_count": null,
   "id": "a5b37bd5",
   "metadata": {
    "id": "a5b37bd5"
   },
   "outputs": [],
   "source": [
    "%%time\n",
    "\n",
    "\n",
    "model = DecisionTreeRegressor()\n",
    "\n",
    "params = [{'max_depth': range(1, 30, 2),\n",
    "          'random_state':[1234]}]\n",
    "\n",
    "dtr = GridSearchCV(estimator = model, param_grid = params, cv = 2, \n",
    "                       scoring='neg_mean_absolute_percentage_error', error_score='raise')\n",
    "\n",
    "dtr.fit(features_le_train, target_le_train)\n",
    "\n",
    "pred = dtr.predict(features_ohe_valid)\n",
    "MAPE_DTR_ohe = mape(target_ohe_valid, pred)\n",
    "print(\"Best parameters:\")\n",
    "print(dtr.best_params_)\n",
    "print(\"MAPE:\", MAPE_DTR_ohe)"
   ]
  },
  {
   "cell_type": "markdown",
   "id": "b78b43be",
   "metadata": {},
   "source": [
    "### Сводная таблица"
   ]
  },
  {
   "cell_type": "code",
   "execution_count": 32,
   "id": "d164eb76",
   "metadata": {},
   "outputs": [
    {
     "data": {
      "text/html": [
       "<div>\n",
       "<style scoped>\n",
       "    .dataframe tbody tr th:only-of-type {\n",
       "        vertical-align: middle;\n",
       "    }\n",
       "\n",
       "    .dataframe tbody tr th {\n",
       "        vertical-align: top;\n",
       "    }\n",
       "\n",
       "    .dataframe thead th {\n",
       "        text-align: right;\n",
       "    }\n",
       "</style>\n",
       "<table border=\"1\" class=\"dataframe\">\n",
       "  <thead>\n",
       "    <tr style=\"text-align: right;\">\n",
       "      <th></th>\n",
       "      <th>MAPE на валидационной выборке</th>\n",
       "      <th>Время обучения с GS</th>\n",
       "    </tr>\n",
       "  </thead>\n",
       "  <tbody>\n",
       "    <tr>\n",
       "      <th>CatBoostRegression + StandardScaler</th>\n",
       "      <td>0.179147</td>\n",
       "      <td>13min 2s</td>\n",
       "    </tr>\n",
       "    <tr>\n",
       "      <th>CatBoostRegression + StandardScaler + LabelEncoder</th>\n",
       "      <td>0.208977</td>\n",
       "      <td>1min 27s</td>\n",
       "    </tr>\n",
       "    <tr>\n",
       "      <th>CatBoostRegression + StandardScaler + OHE</th>\n",
       "      <td>-</td>\n",
       "      <td>-</td>\n",
       "    </tr>\n",
       "    <tr>\n",
       "      <th>DecisionTreeRegressor + StandardScaler + LabelEncoder</th>\n",
       "      <td>0.233317</td>\n",
       "      <td>24.2 s</td>\n",
       "    </tr>\n",
       "    <tr>\n",
       "      <th>DecisionTreeRegressor + StandardScaler + OHE</th>\n",
       "      <td>-</td>\n",
       "      <td>-</td>\n",
       "    </tr>\n",
       "  </tbody>\n",
       "</table>\n",
       "</div>"
      ],
      "text/plain": [
       "                                                   MAPE на валидационной выборке  \\\n",
       "CatBoostRegression + StandardScaler                                     0.179147   \n",
       "CatBoostRegression + StandardScaler + LabelEncoder                      0.208977   \n",
       "CatBoostRegression + StandardScaler + OHE                                      -   \n",
       "DecisionTreeRegressor + StandardScaler + LabelE...                      0.233317   \n",
       "DecisionTreeRegressor + StandardScaler + OHE                                   -   \n",
       "\n",
       "                                                   Время обучения с GS  \n",
       "CatBoostRegression + StandardScaler                           13min 2s  \n",
       "CatBoostRegression + StandardScaler + LabelEncoder            1min 27s  \n",
       "CatBoostRegression + StandardScaler + OHE                            -  \n",
       "DecisionTreeRegressor + StandardScaler + LabelE...              24.2 s  \n",
       "DecisionTreeRegressor + StandardScaler + OHE                         -  "
      ]
     },
     "execution_count": 32,
     "metadata": {},
     "output_type": "execute_result"
    }
   ],
   "source": [
    "index = ['CatBoostRegression + StandardScaler',\n",
    "         'CatBoostRegression + StandardScaler + LabelEncoder',\n",
    "         'CatBoostRegression + StandardScaler + OHE',\n",
    "         'DecisionTreeRegressor + StandardScaler + LabelEncoder',\n",
    "         'DecisionTreeRegressor + StandardScaler + OHE']\n",
    "data = {'MAPE на валидационной выборке':[MAPE_CBR_original, MAPE_CBR_LE, '-', MAPE_DTR_le, '-'], \n",
    "       'Время обучения с GS':['13min 2s', '1min 27s', '-', '24.2 s', '-']}\n",
    "\n",
    "scores_data = pd.DataFrame(data=data, index=index)\n",
    "scores_data"
   ]
  },
  {
   "cell_type": "markdown",
   "id": "qy1roj1Xn8TH",
   "metadata": {
    "id": "qy1roj1Xn8TH"
   },
   "source": [
    "# Финальная модель"
   ]
  },
  {
   "cell_type": "code",
   "execution_count": 33,
   "id": "8db3aaf1",
   "metadata": {
    "id": "8db3aaf1",
    "outputId": "167703d7-4e0c-40be-b56a-0d13692caad1"
   },
   "outputs": [
    {
     "name": "stdout",
     "output_type": "stream",
     "text": [
      "MAPE на валидационной выборке: 0.1791468396640985\n"
     ]
    }
   ],
   "source": [
    "pred = cbr_or.predict(features_original_valid)\n",
    "\n",
    "MAPE_CBR = mape(target_original_valid, pred)\n",
    "print(\"MAPE на валидационной выборке:\", MAPE_CBR)\n",
    "\n",
    "predict = cbr_or.predict(test_original)"
   ]
  },
  {
   "cell_type": "markdown",
   "id": "bb9470bc",
   "metadata": {},
   "source": [
    "## Важность признаков"
   ]
  },
  {
   "cell_type": "code",
   "execution_count": 39,
   "id": "506d43b3",
   "metadata": {},
   "outputs": [
    {
     "data": {
      "image/png": "[encoded data removed]",
      "text/plain": [
       "<Figure size 1000x500 with 1 Axes>"
      ]
     },
     "metadata": {},
     "output_type": "display_data"
    }
   ],
   "source": [
    "im_df = pd.DataFrame(cbr_or.best_estimator_.feature_importances_,\n",
    "                     index = features_original_train.columns, columns=['import'])\n",
    "im_df = im_df.sort_values(by='import', ascending=False)\n",
    "im_df.plot(kind='bar', figsize=(10, 5), title='Важность признаков', color='pink', legend=False)\n",
    "plt.show()"
   ]
  },
  {
   "cell_type": "markdown",
   "id": "af4733d2",
   "metadata": {
    "id": "af4733d2"
   },
   "source": [
    "## Сбор итогового файла"
   ]
  },
  {
   "cell_type": "code",
   "execution_count": null,
   "id": "7a90346d",
   "metadata": {
    "id": "7a90346d"
   },
   "outputs": [],
   "source": [
    "test_original = test_original.merge(vin_test, left_index = True, right_index = True)\n",
    "test_original = test_original.reset_index()\n",
    "test_original['sellingprice'] = predict[0]\n",
    "col = ['vin', 'sellingprice']\n",
    "submission = test_original[col]\n",
    "try:\n",
    "    submission.to_csv(\"/Users/sirena0789/Desktop/Автомобили/data/submission.csv\", index=False)\n",
    "except:\n",
    "    submission.to_csv(\"/content/drive/MyDrive/car_cost/submission.csv\", index=False)"
   ]
  },
  {
   "cell_type": "markdown",
   "id": "0e479780",
   "metadata": {},
   "source": [
    "## Комментарий для ревью\n",
    "\n",
    "В данном проекте я постаралась реализовать идею заполнения пропусков в данных с помощью машинного обучения. На это ушло много времени и ресурсов, но по заполнению категориальных столбцов accuracy варьировался в пределах 35-95% в зависимости от типа заполняемого столбца, а MSE по численным столбцам получалась в районе 44-50%.  \n",
    "Данные результаты говорят о том, что пропущенные значения спрогнозированны не совсем корректно, но любые действия направленные на улучшение метрики (подбор гиперпараметров, использование других моделей) сильно увеличиваает время работы программы, поэтому я старалась балансировать между качеством и скоростью выполнения.  \n",
    "**Совет для ревьюера:** не запускай локально модели заполнения пропусков, а лучше воспользуйся уже заполненным датасетом из прикрепленных файлов. Заполнение пропусков требует больших обьемов оперативки и времени. Скорее всего все ляжет.\n",
    "\n",
    "По этой же причине мне не удалось сделать кодировку с помощью OHE. В коде прописанна функция для этого, но ее запуск убивает ядро мгновенно из за большого обьема данных. Лег даже V100 с 52 гб оперативки. Так же я пробовала кодировать сет частями, но это также не привело к хорошим результатам. Больше ничего придумать не смогла.\n",
    "\n",
    "Мною были протестированы 2 модели. CatBoost на стандартизированной выборке и кодировкой внутри самой модели, CatBoost на закодированной\n",
    "LabelEncoder выборке и DecisionTreeRegressor на закодированной LabelEncoder выборке со следующими результатами:\n",
    "\n",
    "| Model | MAPE |\n",
    "| ------ | ------ |\n",
    "| CatBoostRegression + StandardScaler| 0.179147 |\n",
    "| CatBoostRegression + StandardScaler + LabelEncoder | 0.208977 |\n",
    "| DecisionTreeRegressor + StandardScaler + LabelEncoder\t | 0.233317 |\n",
    "\n",
    "\n",
    "К сожалению, выборку с OHE по причине выше проверить не удалось. \n",
    "Плюс есть еще нюанс: MAPE на валидационной выборке составляет порядка 17-21%, а на тестовой я получаю 200%. Причину я так и не выяснила. Вероятно, где то произошла неполадка с индексами, из за чего в итоговой таблице все перемешалось. Или все таки причина в неверной кодировке. Я пробовала загружать файлы с предсказаниями разных моделей, но MAPE на Kaggle всегда примерно один и тот же.\n",
    "\n",
    "Если честно, то меня уже тошнит от этого проекта. Слишком много времени и сил я на него потратила и не добилась даже сносных результатов.\n",
    "Уже нет желания, сидеть над ним дальше, поэтому сдаю проект в таком недоработанном формате с отвратительной метрикой. Возможно, что позже я к нему вернусь с новыми идеями и доработаю. Было бы здорово получить файл с тестовым таргетом для проверок будущих идей.\n",
    "\n",
    "Прошу понять и простить🫣"
   ]
  },
  {
   "cell_type": "markdown",
   "id": "57a71975",
   "metadata": {},
   "source": [
    "## Варианты улучшения проекта\n",
    "- Проверить метриику выборки с кодировкой OHE \n",
    "- Улучшить показатели моделей для заполнения пропусков путем подбора гиперпараметров или путем изменения метода масштабирования данных\n",
    "- Удалить пропуски в трейне и тесте \n",
    "- Оптимизировать получение информации из vin (есть сайты, где по запросу можно получить практически все нужные нам данные)\n",
    "- Проработать мультиколлениарность признаков и удалить лишние\n",
    "- Обновить фрейм с учетом данных о важности признаков для обучения"
   ]
  }
 ],
 "metadata": {
  "accelerator": "GPU",
  "colab": {
   "collapsed_sections": [
    "5d7db2a0",
    "4e82b896",
    "7a4db9bb",
    "b78b3f2e",
    "e28b787a",
    "QoTh0wFOV79-",
    "2dc9e308"
   ],
   "gpuType": "V100",
   "machine_shape": "hm",
   "provenance": []
  },
  "kernelspec": {
   "display_name": "Python 3 (ipykernel)",
   "language": "python",
   "name": "python3"
  },
  "language_info": {
   "codemirror_mode": {
    "name": "ipython",
    "version": 3
   },
   "file_extension": ".py",
   "mimetype": "text/x-python",
   "name": "python",
   "nbconvert_exporter": "python",
   "pygments_lexer": "ipython3",
   "version": "3.9.17"
  }
 },
 "nbformat": 4,
 "nbformat_minor": 5
}
