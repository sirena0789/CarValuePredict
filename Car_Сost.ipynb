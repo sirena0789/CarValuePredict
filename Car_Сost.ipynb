{
 "cells": [
  {
   "cell_type": "code",
   "execution_count": 151,
   "id": "VD38gbKn6bIz",
   "metadata": {
    "id": "VD38gbKn6bIz",
    "scrolled": true
   },
   "outputs": [],
   "source": [
    "#%pip install vininfo\n",
    "#%pip install catboost"
   ]
  },
  {
   "cell_type": "code",
   "execution_count": 152,
   "id": "841f1d10",
   "metadata": {
    "id": "841f1d10",
    "scrolled": true
   },
   "outputs": [],
   "source": [
    "import pandas as pd\n",
    "import numpy as np\n",
    "import pickle\n",
    "\n",
    "from vininfo import Vin\n",
    "\n",
    "from sklearn.model_selection import train_test_split\n",
    "from sklearn.metrics import mean_squared_error\n",
    "from sklearn.ensemble import RandomForestRegressor\n",
    "from sklearn.model_selection import GridSearchCV\n",
    "from sklearn.tree import DecisionTreeRegressor\n",
    "from sklearn.metrics import accuracy_score\n",
    "from sklearn.preprocessing import OneHotEncoder\n",
    "from sklearn.preprocessing import StandardScaler\n",
    "from sklearn.preprocessing import LabelEncoder\n",
    "from sklearn.linear_model import LogisticRegression\n",
    "\n",
    "from catboost import Pool, CatBoostRegressor, CatBoostClassifier, cv\n",
    "import lightgbm as lgb\n",
    "\n",
    "import warnings\n",
    "warnings.filterwarnings('ignore')"
   ]
  },
  {
   "cell_type": "markdown",
   "id": "5d7db2a0",
   "metadata": {
    "id": "5d7db2a0"
   },
   "source": [
    "## Знакомство с данными"
   ]
  },
  {
   "cell_type": "markdown",
   "id": "4e82b896",
   "metadata": {
    "id": "4e82b896"
   },
   "source": [
    "### train"
   ]
  },
  {
   "cell_type": "code",
   "execution_count": 186,
   "id": "56c8d15b",
   "metadata": {
    "id": "56c8d15b",
    "scrolled": true
   },
   "outputs": [],
   "source": [
    "train = pd.read_csv(\"/Users/sirena0789/Desktop/Автомобили/used-cars-price-prediction-22ds/train.csv\")"
   ]
  },
  {
   "cell_type": "code",
   "execution_count": 154,
   "id": "d81f7ff2",
   "metadata": {
    "id": "d81f7ff2",
    "scrolled": false
   },
   "outputs": [
    {
     "data": {
      "text/html": [
       "<div>\n",
       "<style scoped>\n",
       "    .dataframe tbody tr th:only-of-type {\n",
       "        vertical-align: middle;\n",
       "    }\n",
       "\n",
       "    .dataframe tbody tr th {\n",
       "        vertical-align: top;\n",
       "    }\n",
       "\n",
       "    .dataframe thead th {\n",
       "        text-align: right;\n",
       "    }\n",
       "</style>\n",
       "<table border=\"1\" class=\"dataframe\">\n",
       "  <thead>\n",
       "    <tr style=\"text-align: right;\">\n",
       "      <th></th>\n",
       "      <th>year</th>\n",
       "      <th>make</th>\n",
       "      <th>model</th>\n",
       "      <th>trim</th>\n",
       "      <th>body</th>\n",
       "      <th>transmission</th>\n",
       "      <th>vin</th>\n",
       "      <th>state</th>\n",
       "      <th>condition</th>\n",
       "      <th>odometer</th>\n",
       "      <th>color</th>\n",
       "      <th>interior</th>\n",
       "      <th>seller</th>\n",
       "      <th>sellingprice</th>\n",
       "      <th>saledate</th>\n",
       "    </tr>\n",
       "  </thead>\n",
       "  <tbody>\n",
       "    <tr>\n",
       "      <th>0</th>\n",
       "      <td>2011</td>\n",
       "      <td>Ford</td>\n",
       "      <td>Edge</td>\n",
       "      <td>SEL</td>\n",
       "      <td>suv</td>\n",
       "      <td>automatic</td>\n",
       "      <td>2fmdk3jc4bba41556</td>\n",
       "      <td>md</td>\n",
       "      <td>4.2</td>\n",
       "      <td>111041.0</td>\n",
       "      <td>black</td>\n",
       "      <td>black</td>\n",
       "      <td>santander consumer</td>\n",
       "      <td>12500</td>\n",
       "      <td>Tue Jun 02 2015 02:30:00 GMT-0700 (PDT)</td>\n",
       "    </tr>\n",
       "    <tr>\n",
       "      <th>1</th>\n",
       "      <td>2014</td>\n",
       "      <td>Ford</td>\n",
       "      <td>Fusion</td>\n",
       "      <td>SE</td>\n",
       "      <td>Sedan</td>\n",
       "      <td>automatic</td>\n",
       "      <td>3fa6p0h75er208976</td>\n",
       "      <td>mo</td>\n",
       "      <td>3.5</td>\n",
       "      <td>31034.0</td>\n",
       "      <td>black</td>\n",
       "      <td>black</td>\n",
       "      <td>ars/avis budget group</td>\n",
       "      <td>14500</td>\n",
       "      <td>Wed Feb 25 2015 02:00:00 GMT-0800 (PST)</td>\n",
       "    </tr>\n",
       "    <tr>\n",
       "      <th>2</th>\n",
       "      <td>2012</td>\n",
       "      <td>Nissan</td>\n",
       "      <td>Sentra</td>\n",
       "      <td>2.0 SL</td>\n",
       "      <td>sedan</td>\n",
       "      <td>automatic</td>\n",
       "      <td>3n1ab6ap4cl698412</td>\n",
       "      <td>nj</td>\n",
       "      <td>2.2</td>\n",
       "      <td>35619.0</td>\n",
       "      <td>black</td>\n",
       "      <td>black</td>\n",
       "      <td>nissan-infiniti lt</td>\n",
       "      <td>9100</td>\n",
       "      <td>Wed Jun 10 2015 02:30:00 GMT-0700 (PDT)</td>\n",
       "    </tr>\n",
       "    <tr>\n",
       "      <th>3</th>\n",
       "      <td>2003</td>\n",
       "      <td>HUMMER</td>\n",
       "      <td>H2</td>\n",
       "      <td>Base</td>\n",
       "      <td>suv</td>\n",
       "      <td>automatic</td>\n",
       "      <td>5grgn23u93h101360</td>\n",
       "      <td>tx</td>\n",
       "      <td>2.8</td>\n",
       "      <td>131301.0</td>\n",
       "      <td>gold</td>\n",
       "      <td>beige</td>\n",
       "      <td>wichita falls ford lin inc</td>\n",
       "      <td>13300</td>\n",
       "      <td>Wed Jun 17 2015 03:00:00 GMT-0700 (PDT)</td>\n",
       "    </tr>\n",
       "    <tr>\n",
       "      <th>4</th>\n",
       "      <td>2007</td>\n",
       "      <td>Ford</td>\n",
       "      <td>Fusion</td>\n",
       "      <td>SEL</td>\n",
       "      <td>Sedan</td>\n",
       "      <td>automatic</td>\n",
       "      <td>3fahp08z17r268380</td>\n",
       "      <td>md</td>\n",
       "      <td>2.0</td>\n",
       "      <td>127709.0</td>\n",
       "      <td>black</td>\n",
       "      <td>black</td>\n",
       "      <td>purple heart</td>\n",
       "      <td>1300</td>\n",
       "      <td>Tue Feb 03 2015 04:00:00 GMT-0800 (PST)</td>\n",
       "    </tr>\n",
       "  </tbody>\n",
       "</table>\n",
       "</div>"
      ],
      "text/plain": [
       "   year    make   model    trim   body transmission                vin state  \\\n",
       "0  2011    Ford    Edge     SEL    suv    automatic  2fmdk3jc4bba41556    md   \n",
       "1  2014    Ford  Fusion      SE  Sedan    automatic  3fa6p0h75er208976    mo   \n",
       "2  2012  Nissan  Sentra  2.0 SL  sedan    automatic  3n1ab6ap4cl698412    nj   \n",
       "3  2003  HUMMER      H2    Base    suv    automatic  5grgn23u93h101360    tx   \n",
       "4  2007    Ford  Fusion     SEL  Sedan    automatic  3fahp08z17r268380    md   \n",
       "\n",
       "   condition  odometer  color interior                      seller  \\\n",
       "0        4.2  111041.0  black    black          santander consumer   \n",
       "1        3.5   31034.0  black    black       ars/avis budget group   \n",
       "2        2.2   35619.0  black    black          nissan-infiniti lt   \n",
       "3        2.8  131301.0   gold    beige  wichita falls ford lin inc   \n",
       "4        2.0  127709.0  black    black                purple heart   \n",
       "\n",
       "   sellingprice                                 saledate  \n",
       "0         12500  Tue Jun 02 2015 02:30:00 GMT-0700 (PDT)  \n",
       "1         14500  Wed Feb 25 2015 02:00:00 GMT-0800 (PST)  \n",
       "2          9100  Wed Jun 10 2015 02:30:00 GMT-0700 (PDT)  \n",
       "3         13300  Wed Jun 17 2015 03:00:00 GMT-0700 (PDT)  \n",
       "4          1300  Tue Feb 03 2015 04:00:00 GMT-0800 (PST)  "
      ]
     },
     "execution_count": 154,
     "metadata": {},
     "output_type": "execute_result"
    }
   ],
   "source": [
    "train.head()"
   ]
  },
  {
   "cell_type": "code",
   "execution_count": 155,
   "id": "bbef2460",
   "metadata": {
    "id": "bbef2460",
    "scrolled": true
   },
   "outputs": [
    {
     "name": "stdout",
     "output_type": "stream",
     "text": [
      "<class 'pandas.core.frame.DataFrame'>\n",
      "RangeIndex: 440236 entries, 0 to 440235\n",
      "Data columns (total 15 columns):\n",
      " #   Column        Non-Null Count   Dtype  \n",
      "---  ------        --------------   -----  \n",
      " 0   year          440236 non-null  int64  \n",
      " 1   make          432193 non-null  object \n",
      " 2   model         432113 non-null  object \n",
      " 3   trim          431899 non-null  object \n",
      " 4   body          429843 non-null  object \n",
      " 5   transmission  388775 non-null  object \n",
      " 6   vin           440236 non-null  object \n",
      " 7   state         440236 non-null  object \n",
      " 8   condition     430831 non-null  float64\n",
      " 9   odometer      440167 non-null  float64\n",
      " 10  color         439650 non-null  object \n",
      " 11  interior      439650 non-null  object \n",
      " 12  seller        440236 non-null  object \n",
      " 13  sellingprice  440236 non-null  int64  \n",
      " 14  saledate      440236 non-null  object \n",
      "dtypes: float64(2), int64(2), object(11)\n",
      "memory usage: 50.4+ MB\n"
     ]
    }
   ],
   "source": [
    "train.info()"
   ]
  },
  {
   "cell_type": "markdown",
   "id": "7a4db9bb",
   "metadata": {
    "id": "7a4db9bb"
   },
   "source": [
    "### test"
   ]
  },
  {
   "cell_type": "code",
   "execution_count": 187,
   "id": "717168db",
   "metadata": {
    "id": "717168db",
    "scrolled": true
   },
   "outputs": [],
   "source": [
    "test = pd.read_csv(\"/Users/sirena0789/Desktop/Автомобили/used-cars-price-prediction-22ds/test.csv\")"
   ]
  },
  {
   "cell_type": "code",
   "execution_count": 157,
   "id": "81466997",
   "metadata": {
    "id": "81466997"
   },
   "outputs": [
    {
     "data": {
      "text/html": [
       "<div>\n",
       "<style scoped>\n",
       "    .dataframe tbody tr th:only-of-type {\n",
       "        vertical-align: middle;\n",
       "    }\n",
       "\n",
       "    .dataframe tbody tr th {\n",
       "        vertical-align: top;\n",
       "    }\n",
       "\n",
       "    .dataframe thead th {\n",
       "        text-align: right;\n",
       "    }\n",
       "</style>\n",
       "<table border=\"1\" class=\"dataframe\">\n",
       "  <thead>\n",
       "    <tr style=\"text-align: right;\">\n",
       "      <th></th>\n",
       "      <th>year</th>\n",
       "      <th>make</th>\n",
       "      <th>model</th>\n",
       "      <th>trim</th>\n",
       "      <th>body</th>\n",
       "      <th>transmission</th>\n",
       "      <th>vin</th>\n",
       "      <th>state</th>\n",
       "      <th>condition</th>\n",
       "      <th>odometer</th>\n",
       "      <th>color</th>\n",
       "      <th>interior</th>\n",
       "      <th>seller</th>\n",
       "      <th>saledate</th>\n",
       "    </tr>\n",
       "  </thead>\n",
       "  <tbody>\n",
       "    <tr>\n",
       "      <th>0</th>\n",
       "      <td>2005</td>\n",
       "      <td>Cadillac</td>\n",
       "      <td>CTS</td>\n",
       "      <td>Base</td>\n",
       "      <td>Sedan</td>\n",
       "      <td>automatic</td>\n",
       "      <td>1g6dp567450124779</td>\n",
       "      <td>ca</td>\n",
       "      <td>2.7</td>\n",
       "      <td>116970.0</td>\n",
       "      <td>silver</td>\n",
       "      <td>black</td>\n",
       "      <td>lexus of stevens creek</td>\n",
       "      <td>Wed Jan 14 2015 04:30:00 GMT-0800 (PST)</td>\n",
       "    </tr>\n",
       "    <tr>\n",
       "      <th>1</th>\n",
       "      <td>2014</td>\n",
       "      <td>GMC</td>\n",
       "      <td>Savana Cargo</td>\n",
       "      <td>2500</td>\n",
       "      <td>Van</td>\n",
       "      <td>NaN</td>\n",
       "      <td>1gtw7fca7e1902207</td>\n",
       "      <td>pa</td>\n",
       "      <td>4.4</td>\n",
       "      <td>6286.0</td>\n",
       "      <td>white</td>\n",
       "      <td>gray</td>\n",
       "      <td>u-haul</td>\n",
       "      <td>Fri Feb 27 2015 01:00:00 GMT-0800 (PST)</td>\n",
       "    </tr>\n",
       "    <tr>\n",
       "      <th>2</th>\n",
       "      <td>2013</td>\n",
       "      <td>Nissan</td>\n",
       "      <td>Murano</td>\n",
       "      <td>S</td>\n",
       "      <td>SUV</td>\n",
       "      <td>automatic</td>\n",
       "      <td>jn8az1mw6dw303497</td>\n",
       "      <td>oh</td>\n",
       "      <td>4.6</td>\n",
       "      <td>11831.0</td>\n",
       "      <td>gray</td>\n",
       "      <td>black</td>\n",
       "      <td>nissan-infiniti lt</td>\n",
       "      <td>Tue Feb 24 2015 01:30:00 GMT-0800 (PST)</td>\n",
       "    </tr>\n",
       "    <tr>\n",
       "      <th>3</th>\n",
       "      <td>2013</td>\n",
       "      <td>Chevrolet</td>\n",
       "      <td>Impala</td>\n",
       "      <td>LS Fleet</td>\n",
       "      <td>Sedan</td>\n",
       "      <td>automatic</td>\n",
       "      <td>2g1wf5e34d1160703</td>\n",
       "      <td>fl</td>\n",
       "      <td>2.3</td>\n",
       "      <td>57105.0</td>\n",
       "      <td>silver</td>\n",
       "      <td>black</td>\n",
       "      <td>onemain rem/auto club of miami inc dba north dad</td>\n",
       "      <td>Fri Mar 06 2015 02:00:00 GMT-0800 (PST)</td>\n",
       "    </tr>\n",
       "    <tr>\n",
       "      <th>4</th>\n",
       "      <td>2013</td>\n",
       "      <td>Nissan</td>\n",
       "      <td>Titan</td>\n",
       "      <td>SV</td>\n",
       "      <td>Crew Cab</td>\n",
       "      <td>automatic</td>\n",
       "      <td>1n6aa0ec3dn301209</td>\n",
       "      <td>tn</td>\n",
       "      <td>2.9</td>\n",
       "      <td>31083.0</td>\n",
       "      <td>black</td>\n",
       "      <td>black</td>\n",
       "      <td>nissan north america inc.</td>\n",
       "      <td>Wed Jun 03 2015 03:30:00 GMT-0700 (PDT)</td>\n",
       "    </tr>\n",
       "  </tbody>\n",
       "</table>\n",
       "</div>"
      ],
      "text/plain": [
       "   year       make         model      trim      body transmission  \\\n",
       "0  2005   Cadillac           CTS      Base     Sedan    automatic   \n",
       "1  2014        GMC  Savana Cargo      2500       Van          NaN   \n",
       "2  2013     Nissan        Murano         S       SUV    automatic   \n",
       "3  2013  Chevrolet        Impala  LS Fleet     Sedan    automatic   \n",
       "4  2013     Nissan         Titan        SV  Crew Cab    automatic   \n",
       "\n",
       "                 vin state  condition  odometer   color interior  \\\n",
       "0  1g6dp567450124779    ca        2.7  116970.0  silver    black   \n",
       "1  1gtw7fca7e1902207    pa        4.4    6286.0   white     gray   \n",
       "2  jn8az1mw6dw303497    oh        4.6   11831.0    gray    black   \n",
       "3  2g1wf5e34d1160703    fl        2.3   57105.0  silver    black   \n",
       "4  1n6aa0ec3dn301209    tn        2.9   31083.0   black    black   \n",
       "\n",
       "                                             seller  \\\n",
       "0                            lexus of stevens creek   \n",
       "1                                            u-haul   \n",
       "2                                nissan-infiniti lt   \n",
       "3  onemain rem/auto club of miami inc dba north dad   \n",
       "4                         nissan north america inc.   \n",
       "\n",
       "                                  saledate  \n",
       "0  Wed Jan 14 2015 04:30:00 GMT-0800 (PST)  \n",
       "1  Fri Feb 27 2015 01:00:00 GMT-0800 (PST)  \n",
       "2  Tue Feb 24 2015 01:30:00 GMT-0800 (PST)  \n",
       "3  Fri Mar 06 2015 02:00:00 GMT-0800 (PST)  \n",
       "4  Wed Jun 03 2015 03:30:00 GMT-0700 (PDT)  "
      ]
     },
     "execution_count": 157,
     "metadata": {},
     "output_type": "execute_result"
    }
   ],
   "source": [
    "test.head()"
   ]
  },
  {
   "cell_type": "code",
   "execution_count": 158,
   "id": "b2188fd7",
   "metadata": {
    "id": "b2188fd7",
    "scrolled": false
   },
   "outputs": [
    {
     "name": "stdout",
     "output_type": "stream",
     "text": [
      "<class 'pandas.core.frame.DataFrame'>\n",
      "RangeIndex: 110058 entries, 0 to 110057\n",
      "Data columns (total 14 columns):\n",
      " #   Column        Non-Null Count   Dtype  \n",
      "---  ------        --------------   -----  \n",
      " 0   year          110058 non-null  int64  \n",
      " 1   make          107997 non-null  object \n",
      " 2   model         107979 non-null  object \n",
      " 3   trim          107944 non-null  object \n",
      " 4   body          107464 non-null  object \n",
      " 5   transmission  97047 non-null   object \n",
      " 6   vin           110058 non-null  object \n",
      " 7   state         110058 non-null  object \n",
      " 8   condition     107679 non-null  float64\n",
      " 9   odometer      110039 non-null  float64\n",
      " 10  color         109900 non-null  object \n",
      " 11  interior      109900 non-null  object \n",
      " 12  seller        110058 non-null  object \n",
      " 13  saledate      110058 non-null  object \n",
      "dtypes: float64(2), int64(1), object(11)\n",
      "memory usage: 11.8+ MB\n"
     ]
    }
   ],
   "source": [
    "test.info()"
   ]
  },
  {
   "cell_type": "markdown",
   "id": "e42578d0",
   "metadata": {
    "id": "e42578d0"
   },
   "source": [
    "## Предобработка данных"
   ]
  },
  {
   "cell_type": "markdown",
   "id": "b78b3f2e",
   "metadata": {
    "id": "b78b3f2e"
   },
   "source": [
    "### Вспомогательные функции"
   ]
  },
  {
   "cell_type": "code",
   "execution_count": 159,
   "id": "6934bee9",
   "metadata": {
    "id": "6934bee9",
    "scrolled": true
   },
   "outputs": [],
   "source": [
    "# Для понижения регистра\n",
    "def reg_low(df):\n",
    "    col_cat = ['make', 'model', 'trim', 'body', 'state', 'color', 'interior', 'seller']\n",
    "    for i in col_cat:\n",
    "        df[i] = df[i].str.lower()"
   ]
  },
  {
   "cell_type": "code",
   "execution_count": 160,
   "id": "ddd355a7",
   "metadata": {
    "id": "ddd355a7",
    "scrolled": true
   },
   "outputs": [],
   "source": [
    "# Удаление столбца с датой и добавление возраста машины и дня недели продажи\n",
    "def change_date(df):\n",
    "    df['saledate'] = pd.to_datetime(df['saledate'], utc=True)\n",
    "    df['saleyaer'] = pd.DatetimeIndex(df['saledate']).year\n",
    "    df['weekday'] = df['saledate'].dt.weekday\n",
    "    df['machineage'] =  df['saleyaer'] - df['year']\n",
    "    df = df.drop(['saledate'], axis=1)\n",
    "    return(df)"
   ]
  },
  {
   "cell_type": "markdown",
   "id": "e28b787a",
   "metadata": {
    "id": "e28b787a"
   },
   "source": [
    "### Основная часть"
   ]
  },
  {
   "cell_type": "code",
   "execution_count": 161,
   "id": "aac04dae",
   "metadata": {
    "id": "aac04dae",
    "scrolled": false
   },
   "outputs": [
    {
     "data": {
      "text/html": [
       "<div>\n",
       "<style scoped>\n",
       "    .dataframe tbody tr th:only-of-type {\n",
       "        vertical-align: middle;\n",
       "    }\n",
       "\n",
       "    .dataframe tbody tr th {\n",
       "        vertical-align: top;\n",
       "    }\n",
       "\n",
       "    .dataframe thead th {\n",
       "        text-align: right;\n",
       "    }\n",
       "</style>\n",
       "<table border=\"1\" class=\"dataframe\">\n",
       "  <thead>\n",
       "    <tr style=\"text-align: right;\">\n",
       "      <th></th>\n",
       "      <th>year</th>\n",
       "      <th>condition</th>\n",
       "      <th>odometer</th>\n",
       "    </tr>\n",
       "  </thead>\n",
       "  <tbody>\n",
       "    <tr>\n",
       "      <th>count</th>\n",
       "      <td>110058.000000</td>\n",
       "      <td>107679.000000</td>\n",
       "      <td>110039.000000</td>\n",
       "    </tr>\n",
       "    <tr>\n",
       "      <th>mean</th>\n",
       "      <td>2010.060005</td>\n",
       "      <td>3.423222</td>\n",
       "      <td>68074.331601</td>\n",
       "    </tr>\n",
       "    <tr>\n",
       "      <th>std</th>\n",
       "      <td>3.960190</td>\n",
       "      <td>0.951301</td>\n",
       "      <td>53520.988173</td>\n",
       "    </tr>\n",
       "    <tr>\n",
       "      <th>min</th>\n",
       "      <td>1982.000000</td>\n",
       "      <td>1.000000</td>\n",
       "      <td>1.000000</td>\n",
       "    </tr>\n",
       "    <tr>\n",
       "      <th>25%</th>\n",
       "      <td>2007.000000</td>\n",
       "      <td>2.700000</td>\n",
       "      <td>28313.500000</td>\n",
       "    </tr>\n",
       "    <tr>\n",
       "      <th>50%</th>\n",
       "      <td>2012.000000</td>\n",
       "      <td>3.600000</td>\n",
       "      <td>51922.000000</td>\n",
       "    </tr>\n",
       "    <tr>\n",
       "      <th>75%</th>\n",
       "      <td>2013.000000</td>\n",
       "      <td>4.200000</td>\n",
       "      <td>98852.500000</td>\n",
       "    </tr>\n",
       "    <tr>\n",
       "      <th>max</th>\n",
       "      <td>2015.000000</td>\n",
       "      <td>5.000000</td>\n",
       "      <td>999999.000000</td>\n",
       "    </tr>\n",
       "  </tbody>\n",
       "</table>\n",
       "</div>"
      ],
      "text/plain": [
       "                year      condition       odometer\n",
       "count  110058.000000  107679.000000  110039.000000\n",
       "mean     2010.060005       3.423222   68074.331601\n",
       "std         3.960190       0.951301   53520.988173\n",
       "min      1982.000000       1.000000       1.000000\n",
       "25%      2007.000000       2.700000   28313.500000\n",
       "50%      2012.000000       3.600000   51922.000000\n",
       "75%      2013.000000       4.200000   98852.500000\n",
       "max      2015.000000       5.000000  999999.000000"
      ]
     },
     "execution_count": 161,
     "metadata": {},
     "output_type": "execute_result"
    }
   ],
   "source": [
    "# Проверим данные на выбросы и мин/макс границы\n",
    "\n",
    "train.describe()\n",
    "\n",
    "test.describe()"
   ]
  },
  {
   "cell_type": "code",
   "execution_count": 188,
   "id": "6c152191",
   "metadata": {
    "id": "6c152191"
   },
   "outputs": [],
   "source": [
    "# Изменение формата даты и добавление новых признаков\n",
    "\n",
    "train = change_date(train)\n",
    "\n",
    "test = change_date(test)"
   ]
  },
  {
   "cell_type": "code",
   "execution_count": 189,
   "id": "469e5a0d",
   "metadata": {
    "id": "469e5a0d",
    "scrolled": true
   },
   "outputs": [],
   "source": [
    "# Изменение 141 строки с machineage = -1 на 0\n",
    "\n",
    "train.loc[train['machineage'] < 0, 'machineage'] = 0\n",
    "\n",
    "# Изменение 29 строк с machineage = -1\n",
    "\n",
    "test.loc[test['machineage'] < 0, 'machineage'] = 0"
   ]
  },
  {
   "cell_type": "code",
   "execution_count": 190,
   "id": "a30c60a0",
   "metadata": {
    "id": "a30c60a0",
    "scrolled": true
   },
   "outputs": [],
   "source": [
    "# Удаление 1 строки с sellingprice = 1\n",
    "train = train[train['sellingprice'] >= 100]"
   ]
  },
  {
   "cell_type": "code",
   "execution_count": 191,
   "id": "6fdc6e17",
   "metadata": {
    "id": "6fdc6e17",
    "scrolled": true
   },
   "outputs": [],
   "source": [
    "# Понижение регистра для удаления неявных дубликатов\n",
    "\n",
    "reg_low(train)\n",
    "\n",
    "reg_low(test)"
   ]
  },
  {
   "cell_type": "markdown",
   "id": "bb704781",
   "metadata": {
    "id": "bb704781"
   },
   "source": [
    "## Заполнение пропусков"
   ]
  },
  {
   "cell_type": "code",
   "execution_count": 214,
   "id": "47478aba",
   "metadata": {},
   "outputs": [],
   "source": [
    "# Ячейка для обновления данных для моего удобства (не обращай внимания на нее)\n",
    "\n",
    "train = pd.read_csv(\"/Users/sirena0789/Desktop/Автомобили/used-cars-price-prediction-22ds/train.csv\")\n",
    "test = pd.read_csv(\"/Users/sirena0789/Desktop/Автомобили/used-cars-price-prediction-22ds/test.csv\")\n",
    "train = change_date(train)\n",
    "test = change_date(test)\n",
    "train.loc[train['machineage'] < 0, 'machineage'] = 0\n",
    "test.loc[test['machineage'] < 0, 'machineage'] = 0\n",
    "train = train[train['sellingprice'] >= 100]\n",
    "reg_low(train)\n",
    "reg_low(test)"
   ]
  },
  {
   "cell_type": "markdown",
   "id": "c0dcba51",
   "metadata": {
    "id": "c0dcba51"
   },
   "source": [
    "### Вспомогательные функции"
   ]
  },
  {
   "cell_type": "markdown",
   "id": "938cb441",
   "metadata": {},
   "source": [
    "Тут я пытаюсь заполнить пропуски. Для ускорения работы у меня прописаны функции для создания выборок, обучения на данных без пропусков для train, запись этой обученной модели в файл и функция, которая вытаскивает модель из файла для предсказаний в test. Так как у нас по большей части мультиклассовая классификация, то колонки  model, trim, body заполняются с помощью логистической регрессии, transmission заполнется кэтбустом (т к это бинарная классификация и для этойй цели кэтбуст лучше подойдет), а condition (регрессия) заполнется CatBoostRegressor."
   ]
  },
  {
   "cell_type": "code",
   "execution_count": 215,
   "id": "bcf57118",
   "metadata": {},
   "outputs": [],
   "source": [
    "# Функция для создания и разделения выборок в train для заполения transmission\n",
    "# На входе датафрейм, на выходе выборки для обучения и конструирования итоговой таблицы\n",
    "\n",
    "def sample_transmission_train(df):\n",
    "    name = df.columns\n",
    "    \n",
    "    df_transmission_test_new = df.loc[df['transmission'].isnull()]\n",
    "    ind = df_transmission_test_new.index\n",
    "    df_transmission_test = df_transmission_test_new.drop(['sellingprice'], axis=1)\n",
    "    df_transmission_train_new = df.loc[df['transmission'].notna()]\n",
    "    df_transmission_train = df_transmission_train_new .drop(['sellingprice'], axis=1)\n",
    "    df_transmission_train_features = df_transmission_train.drop(['transmission'], axis=1)\n",
    "    df_transmission_train_target = df_transmission_train['transmission']\n",
    "    df_transmission_test = df_transmission_test.drop(['transmission'], axis=1)\n",
    "    df_transmission_train_target = pd.get_dummies(df_transmission_train_target, drop_first=True)\n",
    "    return (df_transmission_train_features, df_transmission_train_target, \n",
    "            df_transmission_train, df_transmission_test, name, ind, \n",
    "            df_transmission_test_new, df_transmission_train_new)"
   ]
  },
  {
   "cell_type": "code",
   "execution_count": 216,
   "id": "9b9607fa",
   "metadata": {},
   "outputs": [],
   "source": [
    "# Функция для создания и разделения выборок в test для заполения transmission\n",
    "# На входе датафрейм, на выходе выборки для обучения и конструирования итоговой таблицы\n",
    "\n",
    "def sample_transmission_test(df):\n",
    "    name = df.columns\n",
    "    df_transmission_test = df.loc[df['transmission'].isnull()]\n",
    "    ind = df_transmission_test.index\n",
    "    df_transmission_train = df.loc[df['transmission'].notna()]\n",
    "    df_transmission_train_features = df_transmission_train.drop(['transmission'], axis=1)\n",
    "    df_transmission_train_target = df_transmission_train['transmission']\n",
    "    df_transmission_test = df_transmission_test.drop(['transmission'], axis=1)\n",
    "    df_transmission_train_target = pd.get_dummies(df_transmission_train_target, drop_first=True)\n",
    "    return (df_transmission_train_features, df_transmission_train_target, \n",
    "            df_transmission_train, df_transmission_test, name, ind)"
   ]
  },
  {
   "cell_type": "code",
   "execution_count": 217,
   "id": "e30a2f86",
   "metadata": {},
   "outputs": [],
   "source": [
    "# Функция для обучения и сохранение моедли в файл для train transmission\n",
    "# На входе выборки для обучения и конструирования итоговой таблицы, на выходе итоговый датафрейм\n",
    "\n",
    "def train_transmission(df_transmission_train_features, df_transmission_train_target, \n",
    "                       df_transmission_train, df_transmission_test, name, ind,\n",
    "                       df_transmission_test_new, df_transmission_train_new):\n",
    "    model = CatBoostClassifier(learning_rate=0.2,\n",
    "                          random_state=1234,\n",
    "                          verbose=False,\n",
    "                          cat_features=[\"make\",\"model\",\"trim\",\"body\",\"state\",\"color\", \"interior\", \"seller\"])\n",
    "    model.fit(df_transmission_train_features, df_transmission_train_target)\n",
    "    filename = 'model_transmission.sav'\n",
    "    pickle.dump(model, open(filename, 'wb'))\n",
    "    target_predict = model.predict(df_transmission_test)\n",
    "    target_predict = pd.Series(data=target_predict, index=ind)\n",
    "    target_predict = target_predict.replace([0, 1],['automatic', 'manual'])\n",
    "    df_transmission_test_new['transmission'] = target_predict\n",
    "    df_transmission_test_new = df_transmission_test_new[name]\n",
    "    df = pd.concat([df_transmission_train_new, df_transmission_test_new], axis=0)\n",
    "    return df"
   ]
  },
  {
   "cell_type": "code",
   "execution_count": 218,
   "id": "ee95c39b",
   "metadata": {},
   "outputs": [],
   "source": [
    "# Функция для извлечение моедли из файла и заполнение transmission в test\n",
    "# На входе выборки для обучения и конструирования итоговой таблицы, на выходе итоговый датафрейм\n",
    "\n",
    "def test_transmission(df_transmission_train_features, df_transmission_train_target,\n",
    "                       df_transmission_test, name, ind):\n",
    "    filename = 'model_transmission.sav'\n",
    "    model = pickle.load(open(filename, 'rb'))\n",
    "    target_predict = model.predict(df_transmission_test)\n",
    "    target_predict = pd.Series(data=target_predict, index=ind)\n",
    "    target_predict = target_predict.replace([0, 1],['automatic', 'manual'])\n",
    "    df_transmission_test['transmission'] = target_predict\n",
    "    df_transmission_test = df_transmission_test[name]\n",
    "    df = pd.concat([df_transmission_train, df_transmission_test], axis=0)\n",
    "    return df"
   ]
  },
  {
   "cell_type": "code",
   "execution_count": 219,
   "id": "f49360f6",
   "metadata": {
    "id": "f49360f6",
    "scrolled": true
   },
   "outputs": [],
   "source": [
    "# Функция для заполнения make с использованием vininfo\n",
    "\n",
    "def vin(df):\n",
    "    df.loc[df['make'].isnull(), 'make'] = df.loc[df['make'].isnull()].apply(\n",
    "        lambda row: Vin(row['vin']).manufacturer, axis=1)\n",
    "    return (df)"
   ]
  },
  {
   "cell_type": "code",
   "execution_count": 220,
   "id": "91710715",
   "metadata": {},
   "outputs": [],
   "source": [
    "# Функция для создания и разделения выборок для заполения 'model','trim','body'.\n",
    "# На вход поступает сам датафрейм, название столбца, который будем заполнять, \n",
    "# название столбцов в которых до сих пор присутствуют пропуски и они не пройдут в модель (их мы удаляем перед обучением), \n",
    "# и колонки которым требуется encoder, на выходе выборки для обучения и конструирования итоговой таблицы\n",
    "\n",
    "def sample_filling(df, column, columns, encoder_columns):\n",
    "    name = df.columns\n",
    "    df_test = df.loc[df[column].isnull()]\n",
    "    ind = df_test.index\n",
    "    df_train = df.loc[df[column].notna()]\n",
    "    df_target = df_train[column]\n",
    "    df_features = df_train.drop(columns, axis=1)\n",
    "    df_features = df_features.drop(column, axis=1)\n",
    "    df_test_new = df_test.drop(column, axis=1)\n",
    "    df_test = df_test.drop(column, axis=1)\n",
    "    df_test = df_test.drop(columns, axis=1)\n",
    "    label_encoder = LabelEncoder()\n",
    "    for i in encoder_columns:\n",
    "        kek = df_features[i].append(df_test[i])\n",
    "        kek = kek.drop_duplicates()\n",
    "        label_encoder = label_encoder.fit(kek)\n",
    "        df_features[i] = label_encoder.transform(df_features[i])\n",
    "        df_test[i] = label_encoder.transform(df_test[i])\n",
    "    return (df_features, df_target, df_train, df_test, df_test_new, name, ind)"
   ]
  },
  {
   "cell_type": "code",
   "execution_count": 221,
   "id": "6f80cfdf",
   "metadata": {},
   "outputs": [],
   "source": [
    "# Функция для обучения и заполнения для train для заполения 'model','trim','body'.\n",
    "# На вход поступает выборки для обучения и конструирования итоговой таблицы \n",
    "# на выходе модель для записи в файл и итоговый датафрейм \n",
    "\n",
    "def train_filling(df_features, df_target, df_train, df_test, df_test_new, name, ind, column):\n",
    "    model = LogisticRegression(random_state=12345, class_weight='balanced',\n",
    "                               multi_class='multinomial', n_jobs=-1,  solver='sag')\n",
    "    model = model.fit(df_features, df_target)\n",
    "    target_predict = model.predict(df_test)\n",
    "    target_predict = pd.Series(data=target_predict, index=ind)\n",
    "    df_test_new[column] = target_predict\n",
    "    df_test_new = df_test_new[name]\n",
    "    df_new = pd.concat([df_train, df_test_new], axis=0)\n",
    "    return (df_new, model)"
   ]
  },
  {
   "cell_type": "code",
   "execution_count": 222,
   "id": "189e8599",
   "metadata": {},
   "outputs": [],
   "source": [
    "# Функция для обучения и заполнения для train для заполения 'model','trim','body'.\n",
    "# На вход поступает выборки для обучения и конструирования итоговой таблицы \n",
    "# на выходе итоговый датафрейм \n",
    "\n",
    "def test_filling(df_features, df_target, df_train, df_test, df_test_new, name, ind, filename, column):\n",
    "    model = pickle.load(open(filename, 'rb'))\n",
    "    target_predict = model.predict(df_test)\n",
    "    target_predict = pd.Series(data=target_predict, index=ind)\n",
    "    df_test_new[column] = target_predict\n",
    "    df_test_new = df_test_new[name]\n",
    "    df_new = pd.concat([df_train, df_test_new], axis=0)\n",
    "    return df_new"
   ]
  },
  {
   "cell_type": "code",
   "execution_count": 223,
   "id": "FQHxGGSzvSJ5",
   "metadata": {
    "id": "FQHxGGSzvSJ5"
   },
   "outputs": [],
   "source": [
    "# Функция для обучения и заполнения 'condition'\n",
    "# На вход поступает датафрейм и название столбца для заполнения\n",
    "# на выходе итоговый датафрейм \n",
    "\n",
    "def filling_regr(df, column):\n",
    "    # подготовка выборок\n",
    "    name = df.columns\n",
    "    df_test = df.loc[df[column].isnull()]\n",
    "    ind = df_test.index\n",
    "    df_train = df.loc[df[column].notna()]\n",
    "    df_target = df_train[column]\n",
    "    df_features = df_train.drop(column, axis=1)\n",
    "    df_test_new = df_test.drop(column, axis=1)\n",
    "    df_test = df_test.drop(column, axis=1)\n",
    "    df_features = df_features.drop('transmission', axis=1)\n",
    "    df_test = df_test.drop('transmission', axis=1)\n",
    "    \n",
    "\n",
    "    model = CatBoostRegressor(random_state=12345, cat_features=['make', 'model', 'trim', 'body',\n",
    "                                 'state','color',\n",
    "                                 'interior', 'seller'],\n",
    "                          learning_rate=0.2, verbose= False).fit(df_features, df_target)\n",
    "    target_predict = model.predict(df_test)\n",
    "    target_predict = pd.Series(data=target_predict, index=ind)\n",
    "    df_test_new[column] = target_predict\n",
    "    df_test_new = df_test_new[name]\n",
    "    df_new = pd.concat([df_train, df_test_new], axis=0)\n",
    "    return df_new\n"
   ]
  },
  {
   "cell_type": "markdown",
   "id": "9bfc6c90",
   "metadata": {
    "id": "9bfc6c90"
   },
   "source": [
    "### Основная часть"
   ]
  },
  {
   "cell_type": "code",
   "execution_count": 224,
   "id": "0da4420e",
   "metadata": {
    "id": "0da4420e",
    "scrolled": true
   },
   "outputs": [],
   "source": [
    "# Заполнение пропусков в 'color', 'interior'\n",
    "\n",
    "train['color'] = train['color'].fillna('-')\n",
    "train['interior'] = train['interior'].fillna('-')\n",
    "\n",
    "test['color'] = test['color'].fillna('-')\n",
    "test['interior'] = test['interior'].fillna('-')"
   ]
  },
  {
   "cell_type": "code",
   "execution_count": 225,
   "id": "fd5288fd",
   "metadata": {
    "id": "fd5288fd",
    "scrolled": true
   },
   "outputs": [],
   "source": [
    "# Заполнение пропусков в 'make'\n",
    "\n",
    "train = vin(train)\n",
    "\n",
    "test = vin(test)"
   ]
  },
  {
   "cell_type": "code",
   "execution_count": 226,
   "id": "8e376630",
   "metadata": {
    "id": "8e376630",
    "scrolled": true
   },
   "outputs": [],
   "source": [
    "# Удаление вин\n",
    "\n",
    "train = train.drop(['vin'], axis=1)\n",
    "\n",
    "# Сохранение индексов и вина из теста для итогового файла\n",
    "ind = test.index\n",
    "vin_test = test['vin']\n",
    "vin_test = pd.DataFrame(data=vin_test, index=ind)\n",
    "test = test.drop(['vin'], axis=1)"
   ]
  },
  {
   "cell_type": "code",
   "execution_count": 178,
   "id": "824dc1eb",
   "metadata": {
    "id": "8df53a9d"
   },
   "outputs": [],
   "source": [
    "# Заполнение 'model' train с обучением\n",
    "\n",
    "column = 'model'\n",
    "columns = ['trim','body','transmission','condition' ,\n",
    "           'odometer', 'saleyaer', 'weekday', 'sellingprice']\n",
    "encoder_columns = ['make', 'state','color', 'interior', 'seller']\n",
    "\n",
    "(df_features, df_target, df_train, df_test,\n",
    " df_test_new, name, ind) = sample_filling(train, column, columns, encoder_columns)\n",
    "\n",
    "train, model_model = train_filling(df_features, df_target, df_train, df_test, df_test_new, name, ind, column)\n",
    "filename = 'model_model.sav'\n",
    "pickle.dump(model_model, open(filename, 'wb'))"
   ]
  },
  {
   "cell_type": "raw",
   "id": "615e0ffc",
   "metadata": {},
   "source": [
    "# Заполнение 'model' train без обучения из файла \n",
    "\n",
    "column = 'model'\n",
    "columns = ['trim','body','transmission','condition' ,\n",
    "           'odometer', 'saleyaer', 'weekday', 'sellingprice']\n",
    "encoder_columns = ['make', 'state','color', 'interior', 'seller']\n",
    "\n",
    "(df_features, df_target, df_train, df_test,\n",
    " df_test_new, name, ind) = sample_filling(train, column, columns, encoder_columns)\n",
    "filename = 'model_model.sav'\n",
    "train = test_filling(df_features, df_target, df_train, df_test, df_test_new, name, ind, filename, column)"
   ]
  },
  {
   "cell_type": "code",
   "execution_count": 228,
   "id": "fcdb8e52",
   "metadata": {},
   "outputs": [],
   "source": [
    "# Заполнение 'model' test\n",
    "\n",
    "columns = ['trim','body','transmission','condition' ,\n",
    "           'odometer', 'saleyaer', 'weekday']\n",
    "\n",
    "(df_features, df_target, df_train, df_test, \n",
    " df_test_new, name, ind) = sample_filling (test, column, columns, encoder_columns)\n",
    "\n",
    "test = test_filling(df_features, df_target, df_train, df_test, df_test_new, name, ind, filename, column)"
   ]
  },
  {
   "cell_type": "code",
   "execution_count": null,
   "id": "b7a80c83",
   "metadata": {},
   "outputs": [],
   "source": [
    "# Заполнение 'trim' train с обучением\n",
    "\n",
    "column = 'trim'\n",
    "columns = ['body','transmission','condition' ,\n",
    "           'odometer', 'saleyaer', 'weekday', 'sellingprice']\n",
    "encoder_columns = ['make', 'model', 'state','color', 'interior', 'seller']\n",
    "\n",
    "(df_features, df_target, df_train, df_test,\n",
    " df_test_new, name, ind) = sample_filling(train, column, columns, encoder_columns)\n",
    "\n",
    "train, model_model = train_filling(df_features, df_target, df_train, df_test, df_test_new, name, ind, column)\n",
    "filename = 'model_trim.sav'\n",
    "pickle.dump(model_model, open(filename, 'wb'))"
   ]
  },
  {
   "cell_type": "raw",
   "id": "7985328a",
   "metadata": {},
   "source": [
    "# Заполнение 'trim' train без обучения из файла \n",
    "\n",
    "column = 'trim'\n",
    "columns = ['body','transmission','condition' ,\n",
    "           'odometer', 'saleyaer', 'weekday', 'sellingprice']\n",
    "encoder_columns = ['make', 'model', 'state','color', 'interior', 'seller']\n",
    "\n",
    "(df_features, df_target, df_train, df_test,\n",
    " df_test_new, name, ind) = sample_filling(train, column, columns, encoder_columns)\n",
    "filename = 'model_trim.sav'\n",
    "train = test_filling(df_features, df_target, df_train, df_test, df_test_new, name, ind, filename, column)"
   ]
  },
  {
   "cell_type": "code",
   "execution_count": 230,
   "id": "f32c8e38",
   "metadata": {},
   "outputs": [],
   "source": [
    "# Заполнение 'trim' test\n",
    "\n",
    "columns = ['body','transmission','condition' ,\n",
    "           'odometer', 'saleyaer', 'weekday']\n",
    "\n",
    "(df_features, df_target, df_train, df_test, \n",
    " df_test_new, name, ind) = sample_filling (test, column, columns, encoder_columns)\n",
    "\n",
    "test = test_filling(df_features, df_target, df_train, df_test, df_test_new, name, ind, filename, column)"
   ]
  },
  {
   "cell_type": "code",
   "execution_count": null,
   "id": "19e883df",
   "metadata": {},
   "outputs": [],
   "source": [
    "# Заполнение 'body' train с обучением\n",
    "column = 'body'\n",
    "columns = ['transmission','condition' ,\n",
    "           'odometer', 'saleyaer', 'weekday', 'sellingprice']\n",
    "encoder_columns = ['make', 'model', 'trim', 'state','color', 'interior', 'seller']\n",
    "\n",
    "(df_features, df_target, df_train, df_test,\n",
    " df_test_new, name, ind) = sample_filling(train, column, columns, encoder_columns)\n",
    "\n",
    "train, model_model = train_filling(df_features, df_target, df_train, df_test, df_test_new, name, ind, column)\n",
    "filename = 'model_body.sav'\n",
    "pickle.dump(model_model, open(filename, 'wb'))"
   ]
  },
  {
   "cell_type": "raw",
   "id": "35a55446",
   "metadata": {},
   "source": [
    "# Заполнение 'body' train без обучения из файла \n",
    "\n",
    "column = 'body'\n",
    "columns = ['transmission','condition' ,\n",
    "           'odometer', 'saleyaer', 'weekday', 'sellingprice']\n",
    "encoder_columns = ['make', 'model', 'trim', 'state','color', 'interior', 'seller']\n",
    "\n",
    "(df_features, df_target, df_train, df_test,\n",
    " df_test_new, name, ind) = sample_filling(train, column, columns, encoder_columns)\n",
    "filename = 'model_body.sav'\n",
    "train = test_filling(df_features, df_target, df_train, df_test, df_test_new, name, ind, filename, column)"
   ]
  },
  {
   "cell_type": "code",
   "execution_count": 232,
   "id": "b6f47f5d",
   "metadata": {},
   "outputs": [],
   "source": [
    "# Заполнение 'body' test\n",
    "\n",
    "columns = ['transmission','condition' ,\n",
    "           'odometer', 'saleyaer', 'weekday']\n",
    "\n",
    "(df_features, df_target, df_train, df_test, \n",
    " df_test_new, name, ind) = sample_filling (test, column, columns, encoder_columns)\n",
    "\n",
    "test = test_filling(df_features, df_target, df_train, df_test, df_test_new, name, ind, filename, column)"
   ]
  },
  {
   "cell_type": "code",
   "execution_count": 234,
   "id": "23648acf",
   "metadata": {},
   "outputs": [
    {
     "name": "stdout",
     "output_type": "stream",
     "text": [
      "<class 'pandas.core.frame.DataFrame'>\n",
      "Int64Index: 440166 entries, 0 to 440144\n",
      "Data columns (total 16 columns):\n",
      " #   Column        Non-Null Count   Dtype  \n",
      "---  ------        --------------   -----  \n",
      " 0   year          440166 non-null  int64  \n",
      " 1   make          440166 non-null  object \n",
      " 2   model         440166 non-null  object \n",
      " 3   trim          440166 non-null  object \n",
      " 4   body          440166 non-null  object \n",
      " 5   transmission  388731 non-null  object \n",
      " 6   state         440166 non-null  object \n",
      " 7   condition     430810 non-null  float64\n",
      " 8   odometer      440166 non-null  float64\n",
      " 9   color         440166 non-null  object \n",
      " 10  interior      440166 non-null  object \n",
      " 11  seller        440166 non-null  object \n",
      " 12  sellingprice  440166 non-null  int64  \n",
      " 13  saleyaer      440166 non-null  int64  \n",
      " 14  weekday       440166 non-null  int64  \n",
      " 15  machineage    440166 non-null  int64  \n",
      "dtypes: float64(2), int64(5), object(9)\n",
      "memory usage: 57.1+ MB\n"
     ]
    }
   ],
   "source": [
    "# Удаление пропусков в train в odometer (их мало)\n",
    "\n",
    "train = train.dropna(subset=['odometer'])"
   ]
  },
  {
   "cell_type": "code",
   "execution_count": 235,
   "id": "b383cde0",
   "metadata": {},
   "outputs": [],
   "source": [
    "# Заполение пропусков в condition train\n",
    "\n",
    "column = 'condition'\n",
    "train = filling_regr(train, column)"
   ]
  },
  {
   "cell_type": "code",
   "execution_count": 236,
   "id": "55ff5998",
   "metadata": {},
   "outputs": [],
   "source": [
    "# Заполение пропусков в 'condition' test\n",
    "\n",
    "column = 'condition'\n",
    "test = filling_regr(test, column)"
   ]
  },
  {
   "cell_type": "code",
   "execution_count": 237,
   "id": "caf7d132",
   "metadata": {},
   "outputs": [],
   "source": [
    "# Заполение пропусков в transmission train\n",
    "\n",
    "(df_transmission_train_features, df_transmission_train_target, \n",
    "            df_transmission_train, df_transmission_test, name, ind, \n",
    "            df_transmission_test_new, df_transmission_train_new) = sample_transmission_train(train)\n",
    "\n",
    "train = train_transmission(df_transmission_train_features, df_transmission_train_target, \n",
    "            df_transmission_train, df_transmission_test, name, ind, \n",
    "            df_transmission_test_new, df_transmission_train_new)"
   ]
  },
  {
   "cell_type": "code",
   "execution_count": 238,
   "id": "a82e4d32",
   "metadata": {},
   "outputs": [],
   "source": [
    "# Заполение пропусков в transmission test\n",
    "\n",
    "(df_transmission_train_features, df_transmission_train_target, \n",
    "            df_transmission_train, df_transmission_test, name, ind) = sample_transmission_test(test)\n",
    "\n",
    "test = test_transmission(df_transmission_train_features, df_transmission_train_target,\n",
    "                       df_transmission_test, name, ind)"
   ]
  },
  {
   "cell_type": "markdown",
   "id": "2dc9e308",
   "metadata": {
    "id": "2dc9e308"
   },
   "source": [
    "## Первичный анадиз данных"
   ]
  },
  {
   "cell_type": "markdown",
   "id": "4162acd3",
   "metadata": {
    "id": "4162acd3"
   },
   "source": [
    "### train"
   ]
  },
  {
   "cell_type": "code",
   "execution_count": null,
   "id": "c4b025bf",
   "metadata": {
    "id": "c4b025bf",
    "scrolled": true
   },
   "outputs": [],
   "source": [
    "# Проверка распрделения стоимости\n",
    "train['sellingprice'].hist(bins=200, figsize=(12,9))"
   ]
  },
  {
   "cell_type": "code",
   "execution_count": null,
   "id": "0332b392",
   "metadata": {
    "id": "0332b392",
    "scrolled": true
   },
   "outputs": [],
   "source": [
    "# Проверка корреляции\n",
    "train.corr()"
   ]
  },
  {
   "cell_type": "markdown",
   "id": "5f6a92f4",
   "metadata": {
    "id": "5f6a92f4"
   },
   "source": [
    "### test"
   ]
  },
  {
   "cell_type": "code",
   "execution_count": null,
   "id": "6933f058",
   "metadata": {
    "id": "6933f058",
    "scrolled": false
   },
   "outputs": [],
   "source": [
    "# Проверка корреляции\n",
    "test.corr()"
   ]
  },
  {
   "cell_type": "markdown",
   "id": "e98c3c4f",
   "metadata": {
    "id": "e98c3c4f"
   },
   "source": [
    "## Работа с выборками"
   ]
  },
  {
   "cell_type": "markdown",
   "id": "e918cbb2",
   "metadata": {
    "id": "e918cbb2"
   },
   "source": [
    "### Вспомогательные функции"
   ]
  },
  {
   "cell_type": "code",
   "execution_count": 239,
   "id": "5078ccb7",
   "metadata": {
    "id": "5078ccb7"
   },
   "outputs": [],
   "source": [
    "# Функция для LabelEncoder()\n",
    "def LE(features, test, cat_columns):\n",
    "    label_encoder = LabelEncoder()\n",
    "    for i in cat_columns:\n",
    "        features[i]= label_encoder.fit_transform(features[i])\n",
    "        test[i]= label_encoder.fit_transform(test[i])\n",
    "    return features, test"
   ]
  },
  {
   "cell_type": "code",
   "execution_count": 240,
   "id": "d566282b",
   "metadata": {
    "id": "d566282b"
   },
   "outputs": [],
   "source": [
    "# Функция для StandardScaler()\n",
    "\n",
    "def scaler(features_train,features_test, columns):\n",
    "    scaler = StandardScaler()\n",
    "\n",
    "    scaler.fit(features_train[columns])\n",
    "\n",
    "    features_train = features_train.copy()\n",
    "    features_train[columns] = scaler.transform(features_train[columns])\n",
    "\n",
    "    features_test = features_test.copy()\n",
    "    features_test[columns] = scaler.transform(features_test[columns])\n",
    "    return features_train, features_test"
   ]
  },
  {
   "cell_type": "code",
   "execution_count": 241,
   "id": "2760d87c",
   "metadata": {
    "id": "2760d87c"
   },
   "outputs": [],
   "source": [
    "# Функция для get_dummies (пробовала OHE(), но мой копмьютер совершенно не тянет эту кодировку, да и смысла не вижу)\n",
    "\n",
    "def ohe(features_train,features_test):\n",
    "    features_train = pd.get_dummies(features_train, drop_first=True)\n",
    "    features_test = pd.get_dummies(features_test, drop_first=True)\n",
    "    return features_train, features_test"
   ]
  },
  {
   "cell_type": "markdown",
   "id": "2f594b1a",
   "metadata": {
    "id": "2f594b1a"
   },
   "source": [
    "Готовлю три разных выборки. Оригинальная, закодированная LabelEncoder() и закодированная get_dummies, чтобы посмотреть какиая лучше сработает"
   ]
  },
  {
   "cell_type": "code",
   "execution_count": 242,
   "id": "AaBME3WzUoeP",
   "metadata": {
    "id": "AaBME3WzUoeP",
    "scrolled": true
   },
   "outputs": [],
   "source": [
    "features_original = train.drop('sellingprice', axis=1)\n",
    "test_original = test\n",
    "features_le = train.drop('sellingprice', axis=1)\n",
    "test_le = test\n",
    "features_ohe = train.drop('sellingprice', axis=1)\n",
    "test_ohe = test\n",
    "target = train['sellingprice']"
   ]
  },
  {
   "cell_type": "code",
   "execution_count": 243,
   "id": "9176fd2a",
   "metadata": {
    "id": "9176fd2a"
   },
   "outputs": [],
   "source": [
    "cat_columns = features_original.select_dtypes(include='object').columns.to_list()\n",
    "numeric = features_original.select_dtypes(exclude='object').columns.to_list()"
   ]
  },
  {
   "cell_type": "code",
   "execution_count": 244,
   "id": "16519a5e",
   "metadata": {
    "id": "16519a5e"
   },
   "outputs": [],
   "source": [
    "features_original, test_original = scaler(features_original, test_original, numeric)"
   ]
  },
  {
   "cell_type": "code",
   "execution_count": 245,
   "id": "8c8091e4",
   "metadata": {},
   "outputs": [],
   "source": [
    "features_le, test_le = scaler(features_le, test_le, numeric)\n",
    "features_le, test_le = LE(features_le, test_le, cat_columns)"
   ]
  },
  {
   "cell_type": "code",
   "execution_count": 246,
   "id": "df230951",
   "metadata": {
    "id": "df230951"
   },
   "outputs": [],
   "source": [
    "features_ohe, test_ohe = scaler(features_ohe, test_ohe, numeric)\n",
    "features_ohe, test_ohe = ohe(features_ohe, test_ohe)"
   ]
  },
  {
   "cell_type": "code",
   "execution_count": 247,
   "id": "2e47aa65",
   "metadata": {
    "id": "2e47aa65"
   },
   "outputs": [],
   "source": [
    "features_original_train, features_original_valid, target_original_train, target_original_valid = train_test_split(\n",
    "    features_original, target, test_size=0.25, random_state=1234)"
   ]
  },
  {
   "cell_type": "code",
   "execution_count": 248,
   "id": "2c15d77c",
   "metadata": {
    "id": "2c15d77c"
   },
   "outputs": [],
   "source": [
    "features_le_train, features_le_valid, target_le_train, target_le_valid = train_test_split(\n",
    "    features_le, target, test_size=0.25, random_state=1234)"
   ]
  },
  {
   "cell_type": "code",
   "execution_count": 249,
   "id": "9ca1a903",
   "metadata": {
    "id": "9ca1a903"
   },
   "outputs": [],
   "source": [
    "features_ohe_train, features_ohe_valid, target_ohe_train, target_ohe_valid = train_test_split(\n",
    "    features_ohe, target, test_size=0.25, random_state=1234)"
   ]
  },
  {
   "cell_type": "markdown",
   "id": "021ee99e",
   "metadata": {
    "id": "021ee99e"
   },
   "source": [
    "## Обучение моделей"
   ]
  },
  {
   "cell_type": "code",
   "execution_count": 250,
   "id": "bbaaf535",
   "metadata": {
    "id": "bbaaf535"
   },
   "outputs": [],
   "source": [
    "# Функция для вычисления mape\n",
    "\n",
    "def mape(test, pred):\n",
    "    test, pred = np.array(test), np.array(pred)\n",
    "    mape = np.mean(np.abs((test - pred) / test))\n",
    "    return mape"
   ]
  },
  {
   "cell_type": "markdown",
   "id": "d6829fbf",
   "metadata": {
    "id": "d6829fbf"
   },
   "source": [
    "### DecisionTreeRegressor"
   ]
  },
  {
   "cell_type": "markdown",
   "id": "bedd5902",
   "metadata": {},
   "source": [
    "#### Закодированная LE выборка"
   ]
  },
  {
   "cell_type": "code",
   "execution_count": null,
   "id": "689e0d5d",
   "metadata": {
    "colab": {
     "base_uri": "https://localhost:8080/"
    },
    "id": "689e0d5d",
    "outputId": "3b765467-ac08-4776-9bf6-b7d862941cd4",
    "scrolled": true
   },
   "outputs": [],
   "source": [
    "%%time\n",
    "\n",
    "model = DecisionTreeRegressor(random_state=12345)\n",
    "\n",
    "max_depth = [x for x in range(2, 30)]\n",
    "params = [{'max_depth':max_depth}]\n",
    "\n",
    "clf = GridSearchCV(estimator = model, param_grid = params, cv = 2, n_jobs = -1 ,\n",
    "                   scoring='neg_mean_absolute_percentage_error')\n",
    "\n",
    "clf.fit(features_le_train, target_le_train)\n",
    "pred = clf.predict(features_le_valid)\n",
    "MAPE_DTR = mape(target_le_valid, pred)\n",
    "print(\"Best parameters:\")\n",
    "print(clf.best_params_)\n",
    "print(\"MAPE:\", MAPE_DTR)"
   ]
  },
  {
   "cell_type": "markdown",
   "id": "6541fb7c",
   "metadata": {},
   "source": [
    "#### Закодированная OHE выборка"
   ]
  },
  {
   "cell_type": "code",
   "execution_count": null,
   "id": "568ca855",
   "metadata": {},
   "outputs": [],
   "source": [
    "%%time\n",
    "\n",
    "model = DecisionTreeRegressor(random_state=12345)\n",
    "\n",
    "max_depth = [x for x in range(2, 20)]\n",
    "params = [{'max_depth':max_depth}]\n",
    "\n",
    "clf = GridSearchCV(estimator = model, param_grid = params, cv = 2, n_jobs = -1 ,\n",
    "                   scoring='neg_mean_absolute_percentage_error')\n",
    "\n",
    "clf.fit(features_ohe_train, target_ohe_train)\n",
    "pred = clf.predict(features_ohe_valid)\n",
    "MAPE_DTR = mape(target_ohe_valid, pred)\n",
    "print(\"Best parameters:\")\n",
    "print(clf.best_params_)\n",
    "print(\"MAPE:\", MAPE_DTR)"
   ]
  },
  {
   "cell_type": "markdown",
   "id": "3c0a2c4b",
   "metadata": {
    "id": "3c0a2c4b"
   },
   "source": [
    "### CatBoost"
   ]
  },
  {
   "cell_type": "markdown",
   "id": "4ea85107",
   "metadata": {},
   "source": [
    "#### Оригинальная выборка"
   ]
  },
  {
   "cell_type": "code",
   "execution_count": 251,
   "id": "f21d9623",
   "metadata": {
    "id": "f21d9623",
    "scrolled": false
   },
   "outputs": [
    {
     "name": "stdout",
     "output_type": "stream",
     "text": [
      "Best parameters:\n",
      "{'iterations': 3000, 'learning_rate': 0.03, 'verbose': False}\n",
      "MAPE: 0.17620170650673161\n",
      "CPU times: user 21min 56s, sys: 29.1 s, total: 22min 25s\n",
      "Wall time: 14min 27s\n"
     ]
    }
   ],
   "source": [
    "%%time\n",
    "\n",
    "model = CatBoostRegressor(random_state=1234, cat_features=['make', 'model', 'trim', 'body',\n",
    "                                 'transmission', 'state','color',\n",
    "                                 'interior', 'seller'])\n",
    "\n",
    "params = [{'learning_rate':[0.01, 0.03],\n",
    "           'iterations':[1000, 3000],\n",
    "                'verbose':[False]}]\n",
    "\n",
    "clf = GridSearchCV(estimator = model, param_grid = params, cv = 2,\n",
    "                   n_jobs = -1, scoring='neg_mean_absolute_percentage_error')\n",
    "\n",
    "clf.fit(features_original_train, target_original_train)\n",
    "\n",
    "estimator = clf.best_estimator_\n",
    "filename = \"model_CBR_original.cbm\"\n",
    "pickle.dump(estimator, open(filename, 'wb'))\n",
    "\n",
    "pred = clf.predict(features_original_valid)\n",
    "MAPE_CBR_original = mape(target_original_valid, pred)\n",
    "print(\"Best parameters:\")\n",
    "print(clf.best_params_)\n",
    "print(\"MAPE:\", MAPE_CBR_original)"
   ]
  },
  {
   "cell_type": "markdown",
   "id": "8e8fa13d",
   "metadata": {},
   "source": [
    "#### Закодированная LE выборка"
   ]
  },
  {
   "cell_type": "code",
   "execution_count": null,
   "id": "ecbaf2fe",
   "metadata": {
    "colab": {
     "base_uri": "https://localhost:8080/"
    },
    "id": "ecbaf2fe",
    "outputId": "bd9e735b-bddc-4cdf-9750-2bcbf382c2ea"
   },
   "outputs": [],
   "source": [
    "%%time\n",
    "\n",
    "model = CatBoostRegressor(random_state=1234)\n",
    "\n",
    "params = [{'learning_rate':[0.01, 0.03],\n",
    "           'iterations':[1000, 3000],\n",
    "                'verbose':[False]}]\n",
    "\n",
    "clf = GridSearchCV(estimator = model, param_grid = params, cv = 2,\n",
    "                   n_jobs = -1, scoring='neg_mean_absolute_percentage_error')\n",
    "\n",
    "clf.fit(features_le_train, target_le_train)\n",
    "\n",
    "estimator = clf.best_estimator_\n",
    "filename = \"model_CBR_LE.cbm\"\n",
    "pickle.dump(estimator, open(filename, 'wb'))\n",
    "\n",
    "pred = clf.predict(features_le_valid)\n",
    "MAPE_CBR_LE = mape(target_le_valid, pred)\n",
    "print(\"Best parameters:\")\n",
    "print(clf.best_params_)\n",
    "print(\"MAPE:\", MAPE_CBR_LE)"
   ]
  },
  {
   "cell_type": "markdown",
   "id": "76892971",
   "metadata": {
    "id": "76892971"
   },
   "source": [
    "### LGBMRegressor"
   ]
  },
  {
   "cell_type": "markdown",
   "id": "898e6b28",
   "metadata": {},
   "source": [
    "#### Закодированная OHE выборка"
   ]
  },
  {
   "cell_type": "code",
   "execution_count": null,
   "id": "2dc5cf8a",
   "metadata": {
    "colab": {
     "base_uri": "https://localhost:8080/"
    },
    "id": "2dc5cf8a",
    "outputId": "8b99aa88-de2b-4f93-81e3-d79fceb2094e"
   },
   "outputs": [],
   "source": [
    "%%time\n",
    "\n",
    "\n",
    "model = lgb.LGBMRegressor(random_state=1234, force_col_wise=True)\n",
    "\n",
    "params = [{'learning_rate':[0.01, 0.03, 0.1],\n",
    "           'iterations':[1000, 2000, 3000]}]\n",
    "\n",
    "clf = GridSearchCV(estimator = model, param_grid = params, cv = 2,\n",
    "                   n_jobs = -1, scoring='neg_mean_absolute_percentage_error')\n",
    "\n",
    "clf.fit(features_le_train, target_le_train)\n",
    "\n",
    "estimator = clf.best_estimator_\n",
    "filename = \"model_LGBM_le.cbm\"\n",
    "pickle.dump(estimator, open(filename, 'wb'))\n",
    "\n",
    "pred = clf.predict(features_le_valid)\n",
    "MAPE_LGBM_le = mape(target_le_valid, pred)\n",
    "print(\"Best parameters:\")\n",
    "print(clf.best_params_)\n",
    "print(\"MAPE:\", MAPE_LGBM_le)"
   ]
  },
  {
   "cell_type": "markdown",
   "id": "003a4b89",
   "metadata": {},
   "source": [
    "#### Закодированная LE выборка"
   ]
  },
  {
   "cell_type": "code",
   "execution_count": null,
   "id": "a5b37bd5",
   "metadata": {},
   "outputs": [],
   "source": [
    "%%time\n",
    "\n",
    "\n",
    "model = lgb.LGBMRegressor(random_state=1234, force_col_wise=True)\n",
    "\n",
    "params = [{'learning_rate':[0.01, 0.03, 0.1],\n",
    "           'iterations':[1000, 2000, 3000],\n",
    "                'verbose':[1, False]}]\n",
    "\n",
    "clf = GridSearchCV(estimator = model, param_grid = params, cv = 2,\n",
    "                   n_jobs = -1, scoring='neg_mean_absolute_percentage_error')\n",
    "\n",
    "clf.fit(features_ohe_train, target_ohe_train)\n",
    "\n",
    "estimator = clf.best_estimator_\n",
    "filename = \"model_LGBM_ohe.cbm\"\n",
    "pickle.dump(estimator, open(filename, 'wb'))\n",
    "\n",
    "pred = clf.predict(features_ohe_valid)\n",
    "MAPE_LGBM_ohe = mape(target_ohe_valid, pred)\n",
    "print(\"Best parameters:\")\n",
    "print(clf.best_params_)\n",
    "print(\"MAPE:\", MAPE_LGBM_ohe)"
   ]
  },
  {
   "cell_type": "markdown",
   "id": "qy1roj1Xn8TH",
   "metadata": {
    "id": "qy1roj1Xn8TH"
   },
   "source": [
    "## Финальная модель"
   ]
  },
  {
   "cell_type": "code",
   "execution_count": 252,
   "id": "8db3aaf1",
   "metadata": {},
   "outputs": [
    {
     "name": "stdout",
     "output_type": "stream",
     "text": [
      "MAPE на валидационной выборке: 0.17620170650673161\n"
     ]
    }
   ],
   "source": [
    "filename = \"model_CBR_original.cbm\"\n",
    "model = pickle.load(open(filename, 'rb'))\n",
    "pred_test = model.predict(test_original)\n",
    "pred = model.predict(features_original_valid)\n",
    "MAPE_CBR_original = mape(target_original_valid, pred)\n",
    "print(\"MAPE на валидационной выборке:\", MAPE_CBR_original)"
   ]
  },
  {
   "cell_type": "markdown",
   "id": "af4733d2",
   "metadata": {},
   "source": [
    "## Сбор итогового файла"
   ]
  },
  {
   "cell_type": "code",
   "execution_count": 254,
   "id": "5b5e7c5a",
   "metadata": {},
   "outputs": [
    {
     "data": {
      "text/html": [
       "<div>\n",
       "<style scoped>\n",
       "    .dataframe tbody tr th:only-of-type {\n",
       "        vertical-align: middle;\n",
       "    }\n",
       "\n",
       "    .dataframe tbody tr th {\n",
       "        vertical-align: top;\n",
       "    }\n",
       "\n",
       "    .dataframe thead th {\n",
       "        text-align: right;\n",
       "    }\n",
       "</style>\n",
       "<table border=\"1\" class=\"dataframe\">\n",
       "  <thead>\n",
       "    <tr style=\"text-align: right;\">\n",
       "      <th></th>\n",
       "      <th>vin</th>\n",
       "      <th>sellingprice</th>\n",
       "    </tr>\n",
       "  </thead>\n",
       "  <tbody>\n",
       "    <tr>\n",
       "      <th>0</th>\n",
       "      <td>1g6dp567450124779</td>\n",
       "      <td>5509.948580</td>\n",
       "    </tr>\n",
       "    <tr>\n",
       "      <th>1</th>\n",
       "      <td>1gtw7fca7e1902207</td>\n",
       "      <td>20853.852539</td>\n",
       "    </tr>\n",
       "    <tr>\n",
       "      <th>2</th>\n",
       "      <td>jn8az1mw6dw303497</td>\n",
       "      <td>8601.685458</td>\n",
       "    </tr>\n",
       "    <tr>\n",
       "      <th>3</th>\n",
       "      <td>2g1wf5e34d1160703</td>\n",
       "      <td>21229.189587</td>\n",
       "    </tr>\n",
       "    <tr>\n",
       "      <th>4</th>\n",
       "      <td>1n6aa0ec3dn301209</td>\n",
       "      <td>2448.168583</td>\n",
       "    </tr>\n",
       "  </tbody>\n",
       "</table>\n",
       "</div>"
      ],
      "text/plain": [
       "                 vin  sellingprice\n",
       "0  1g6dp567450124779   5509.948580\n",
       "1  1gtw7fca7e1902207  20853.852539\n",
       "2  jn8az1mw6dw303497   8601.685458\n",
       "3  2g1wf5e34d1160703  21229.189587\n",
       "4  1n6aa0ec3dn301209   2448.168583"
      ]
     },
     "execution_count": 254,
     "metadata": {},
     "output_type": "execute_result"
    }
   ],
   "source": [
    "vin_test['sellingprice'] = pred_test\n",
    "vin_test.to_csv(r'my_data.csv', index=False)\n",
    "vin_test.head()"
   ]
  },
  {
   "cell_type": "code",
   "execution_count": null,
   "id": "7a90346d",
   "metadata": {},
   "outputs": [],
   "source": []
  }
 ],
 "metadata": {
  "accelerator": "GPU",
  "colab": {
   "collapsed_sections": [
    "e28b787a",
    "9bfc6c90"
   ],
   "gpuType": "A100",
   "provenance": []
  },
  "kernelspec": {
   "display_name": "Python 3 (ipykernel)",
   "language": "python",
   "name": "python3"
  },
  "language_info": {
   "codemirror_mode": {
    "name": "ipython",
    "version": 3
   },
   "file_extension": ".py",
   "mimetype": "text/x-python",
   "name": "python",
   "nbconvert_exporter": "python",
   "pygments_lexer": "ipython3",
   "version": "3.9.17"
  }
 },
 "nbformat": 4,
 "nbformat_minor": 5
}
